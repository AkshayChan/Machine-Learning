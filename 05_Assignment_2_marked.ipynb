{
 "cells": [
  {
   "cell_type": "markdown",
   "metadata": {},
   "source": [
    "# Introductory applied machine learning (INFR10069)"
   ]
  },
  {
   "cell_type": "markdown",
   "metadata": {},
   "source": [
    "# Assignment 2: Linear regression"
   ]
  },
  {
   "cell_type": "markdown",
   "metadata": {},
   "source": [
    "<font color='red'>TOTAL: 81/100</font>\n",
    "<br>\n",
    "<font color='green'>COMMENT: -</font>"
   ]
  },
  {
   "cell_type": "markdown",
   "metadata": {},
   "source": [
    "## Marking Breakdown\n",
    "\n",
    "**70-100%** results/answer correct plus extra achievement at understanding or analysis of results. Clear explanations, evidence of creative or deeper thought will contribute to a higher grade.\n",
    "\n",
    "**60-69%** results/answer correct or nearly correct and well explained.\n",
    "\n",
    "**50-59%** results/answer in right direction but significant errors.\n",
    "\n",
    "**40-49%** some evidence that the student has gained some understanding, but not answered the questions\n",
    "properly.\n",
    "\n",
    "**0-39%** serious error or slack work."
   ]
  },
  {
   "cell_type": "markdown",
   "metadata": {},
   "source": [
    "## Mechanics\n",
    "\n",
    "Fill out this notebook, save it, and **submit it electronically as described below.**\n",
    "\n",
    "On a DICE environment, open the terminal, navigate to the location of this notebook, and submit this notebook file using the following command:\n",
    "\n",
    "`submit iaml cw1 05_Assignment_2.ipynb`\n",
    "\n",
    "What actually happens in the background is that your file is placed in a folder available to markers. If you submit a file with the same name into the same location, **it will *overwrite* your previous submission**. You can check the status of your submissions with the `show_submissions` command.\n",
    "\n",
    "**Distance Learners:** To copy your work up to DICE (such that you can use the `submit` command) you can use `scp` or `rsync` (you may need to install these yourself). You can copy files up using `student.ssh.inf.ed.ac.uk`, then ssh in to submit, e.g. (in a unix terminal):\n",
    "```\n",
    "filename=05_Assignment_2.ipynb\n",
    "local_scp_filepath=~/git/iaml2017/${filename}\n",
    "UUN=s0816700\n",
    "server_address=student.ssh.inf.ed.ac.uk\n",
    "scp -r ${local_scp_filepath} ${UUN}@${server_address}:${filename}\n",
    "# rsync -rl ${local_scp_filepath} ${UUN}@${server_address}:${filename}\n",
    "ssh ${UUN}@${server_address}\n",
    "ssh student.login\n",
    "submit iaml cw1 05_Assignment_2.ipynb\n",
    "```\n",
    "\n",
    "**Late submissions:** The policy stated in the School of Informatics MSc Degree Guide is that normally you will not be allowed to submit coursework late. See http://www.inf.ed.ac.uk/teaching/years/msc/courseguide10.html#exam for exceptions to this, e.g. in case of serious medical illness or serious personal problems.\n",
    "\n",
    "**Collaboration:** You may discuss the assignment with your colleagues, provided that the writing that you submit is entirely your own. That is, you should NOT borrow actual text or code from other students. We ask that you provide a list of the people who you've had discussions with (if any).\n",
    "\n",
    "**Resubmission:** If you submit your file again, the previous submission is **overwritten**. We will mark the version that is in the submission folder at the deadline."
   ]
  },
  {
   "cell_type": "markdown",
   "metadata": {},
   "source": [
    "## Important Instructions\n",
    "\n",
    "1. You *MUST* have your environment set up as in the [README](https://github.com/JamesOwers/iaml2017) and you *must activate this environment before running this notebook*:\n",
    "```\n",
    "source activate iaml\n",
    "cd iaml_2017\n",
    "jupyter notebook\n",
    "# Navigate to this file\n",
    "```\n",
    "\n",
    "1. Wherever you are required to produce code you should use code cells, otherwise you should use markdown cells to report results and explain answers.\n",
    "\n",
    "1. The .csv files that you will be using are located at `./datasets` (the `datasets` directory is adjacent to this file).\n",
    "\n",
    "1. **IMPORTANT:** Keep your answers brief and concise. Most written questions can be answered with 2-3 lines of explanation."
   ]
  },
  {
   "cell_type": "markdown",
   "metadata": {},
   "source": [
    "## Imports\n",
    "\n",
    "Execute the cell below to import all packages you will be using in the rest of the assignemnt."
   ]
  },
  {
   "cell_type": "code",
   "execution_count": 1,
   "metadata": {
    "collapsed": true
   },
   "outputs": [],
   "source": [
    "from __future__ import print_function, division\n",
    "import os\n",
    "import numpy as np\n",
    "import pandas as pd\n",
    "import matplotlib.pyplot as plt\n",
    "from sklearn.metrics import r2_score, explained_variance_score, mean_absolute_error, mean_squared_error\n",
    "from sklearn.model_selection import train_test_split, KFold, cross_val_predict\n",
    "from sklearn.linear_model import LinearRegression\n",
    "from sklearn.preprocessing import OneHotEncoder, LabelEncoder\n",
    "from sklearn.tree import DecisionTreeRegressor\n",
    "from sklearn.ensemble import RandomForestRegressor\n",
    "import seaborn as sns\n",
    "%matplotlib inline"
   ]
  },
  {
   "cell_type": "markdown",
   "metadata": {},
   "source": [
    "## Description of the dataset\n",
    "This assignment is based on the automobile pricing dataset. Our goal will be to predict the price of automobiles based on various attributes. This data set consists of three types of entities: \n",
    "\n",
    "1. The specification of an automobile in terms of various characteristics \n",
    "\n",
    "1. Assigned insurance risk rating \n",
    "   * this rating corresponds to the degree to which the auto is more risky than its price indicates. Cars are initially assigned a risk factor symbol associated with its price. Then, if it is more risky (or less), this symbol is adjusted by moving it up (or down) the scale. Actuaries call this process ”symboling”. A value of +3 indicates that the auto is risky, -3 that it is probably pretty safe. \n",
    "\n",
    "1. Normalized losses in use as compared to other cars\n",
    "  * the third factor is the relative average loss payment per insured vehicle year. This value is normalized for all autos within a particular size classification (two door small, station wagons, sports/speciality, etc...), and represents the average loss per car per year (avg_loss/car/year). \n",
    "\n",
    "\n",
    "To save you time and to make the problem manageable with limited computational resources, we preprocessed the original dataset. We removed any instances that had one or more missing values and randomized the data set. The resulting representation is much more compact and can be used directly to perform our experiments.\n"
   ]
  },
  {
   "cell_type": "markdown",
   "metadata": {},
   "source": [
    "## 1. Simple Linear Regression [50%]\n",
    "We will begin by studying a simple Linear Regression model. Such a model will consider the relationship between a dependent (response) variable and only one independent (explanatory) variable. When applying machine learning in practice it can be prudent to start out simple in order to get a feeling for the dataset and for any potential difficulties that might warrant a more sophisticated model. In this Section we will consider one independent variable (i.e. feature) `engine-power` against the dependent variable (i.e. target) `price`."
   ]
  },
  {
   "cell_type": "markdown",
   "metadata": {},
   "source": [
    "### ========== Question 1.1 --- [1 mark] ==========\n",
    "Load the dataset `train_auto_numeric.csv` into a pandas DataFrame called `auto_numeric`. Display the number of data points and attributes in the dataset."
   ]
  },
  {
   "cell_type": "markdown",
   "metadata": {},
   "source": [
    "<font color='red'>TASK MARK: 1</font>\n",
    "<br>\n",
    "<font color='green'>COMMENT:  - </font>"
   ]
  },
  {
   "cell_type": "code",
   "execution_count": 2,
   "metadata": {},
   "outputs": [
    {
     "name": "stdout",
     "output_type": "stream",
     "text": [
      "159\n",
      "16\n"
     ]
    }
   ],
   "source": [
    "data_path = os.path.join(os.getcwd(), 'datasets', 'train_auto_numeric.csv')\n",
    "auto_numeric = pd.read_csv(data_path, delimiter = ',')\n",
    "print(auto_numeric.shape[0])\n",
    "print(auto_numeric.shape[1])"
   ]
  },
  {
   "cell_type": "markdown",
   "metadata": {},
   "source": [
    "### ========== Question 1.2 --- [1 mark] ==========\n",
    "Display the first 8 instances of the dataset."
   ]
  },
  {
   "cell_type": "markdown",
   "metadata": {},
   "source": [
    "<font color='red'>TASK MARK: 1</font>\n",
    "<br>\n",
    "<font color='green'>COMMENT:  - </font>"
   ]
  },
  {
   "cell_type": "code",
   "execution_count": 3,
   "metadata": {},
   "outputs": [
    {
     "data": {
      "text/html": [
       "<div>\n",
       "<style>\n",
       "    .dataframe thead tr:only-child th {\n",
       "        text-align: right;\n",
       "    }\n",
       "\n",
       "    .dataframe thead th {\n",
       "        text-align: left;\n",
       "    }\n",
       "\n",
       "    .dataframe tbody tr th {\n",
       "        vertical-align: top;\n",
       "    }\n",
       "</style>\n",
       "<table border=\"1\" class=\"dataframe\">\n",
       "  <thead>\n",
       "    <tr style=\"text-align: right;\">\n",
       "      <th></th>\n",
       "      <th>normalized-losses</th>\n",
       "      <th>wheel-base</th>\n",
       "      <th>length</th>\n",
       "      <th>width</th>\n",
       "      <th>height</th>\n",
       "      <th>engine-size</th>\n",
       "      <th>bore</th>\n",
       "      <th>stroke</th>\n",
       "      <th>compression-ratio</th>\n",
       "      <th>engine-power</th>\n",
       "      <th>peak-rpm</th>\n",
       "      <th>city-mpg</th>\n",
       "      <th>highway-mpg</th>\n",
       "      <th>mean-effective-pressure</th>\n",
       "      <th>torque</th>\n",
       "      <th>price</th>\n",
       "    </tr>\n",
       "  </thead>\n",
       "  <tbody>\n",
       "    <tr>\n",
       "      <th>0</th>\n",
       "      <td>164.0</td>\n",
       "      <td>99.8</td>\n",
       "      <td>176.6</td>\n",
       "      <td>66.2</td>\n",
       "      <td>54.3</td>\n",
       "      <td>8.85</td>\n",
       "      <td>3.19</td>\n",
       "      <td>3.40</td>\n",
       "      <td>10.0</td>\n",
       "      <td>102000.0</td>\n",
       "      <td>5500.0</td>\n",
       "      <td>24.0</td>\n",
       "      <td>30.0</td>\n",
       "      <td>40.52</td>\n",
       "      <td>57.68</td>\n",
       "      <td>13950.0</td>\n",
       "    </tr>\n",
       "    <tr>\n",
       "      <th>1</th>\n",
       "      <td>110.0</td>\n",
       "      <td>99.4</td>\n",
       "      <td>162.4</td>\n",
       "      <td>66.4</td>\n",
       "      <td>54.3</td>\n",
       "      <td>15.18</td>\n",
       "      <td>3.19</td>\n",
       "      <td>3.40</td>\n",
       "      <td>8.0</td>\n",
       "      <td>115000.0</td>\n",
       "      <td>5500.0</td>\n",
       "      <td>18.0</td>\n",
       "      <td>22.0</td>\n",
       "      <td>47.39</td>\n",
       "      <td>59.59</td>\n",
       "      <td>17450.0</td>\n",
       "    </tr>\n",
       "    <tr>\n",
       "      <th>2</th>\n",
       "      <td>158.0</td>\n",
       "      <td>105.8</td>\n",
       "      <td>192.7</td>\n",
       "      <td>71.4</td>\n",
       "      <td>51.6</td>\n",
       "      <td>15.18</td>\n",
       "      <td>3.94</td>\n",
       "      <td>2.80</td>\n",
       "      <td>8.5</td>\n",
       "      <td>70000.0</td>\n",
       "      <td>4400.0</td>\n",
       "      <td>28.0</td>\n",
       "      <td>30.0</td>\n",
       "      <td>0.85</td>\n",
       "      <td>3344.79</td>\n",
       "      <td>17710.0</td>\n",
       "    </tr>\n",
       "    <tr>\n",
       "      <th>3</th>\n",
       "      <td>106.0</td>\n",
       "      <td>86.6</td>\n",
       "      <td>158.7</td>\n",
       "      <td>67.7</td>\n",
       "      <td>55.9</td>\n",
       "      <td>13.74</td>\n",
       "      <td>3.13</td>\n",
       "      <td>3.50</td>\n",
       "      <td>7.8</td>\n",
       "      <td>140000.0</td>\n",
       "      <td>5600.0</td>\n",
       "      <td>32.0</td>\n",
       "      <td>20.0</td>\n",
       "      <td>44.74</td>\n",
       "      <td>68.97</td>\n",
       "      <td>23875.0</td>\n",
       "    </tr>\n",
       "    <tr>\n",
       "      <th>4</th>\n",
       "      <td>192.0</td>\n",
       "      <td>101.2</td>\n",
       "      <td>176.8</td>\n",
       "      <td>64.8</td>\n",
       "      <td>54.3</td>\n",
       "      <td>8.67</td>\n",
       "      <td>3.50</td>\n",
       "      <td>2.80</td>\n",
       "      <td>8.8</td>\n",
       "      <td>101000.0</td>\n",
       "      <td>5800.0</td>\n",
       "      <td>23.0</td>\n",
       "      <td>29.0</td>\n",
       "      <td>44.78</td>\n",
       "      <td>53.48</td>\n",
       "      <td>16430.0</td>\n",
       "    </tr>\n",
       "    <tr>\n",
       "      <th>5</th>\n",
       "      <td>194.0</td>\n",
       "      <td>110.0</td>\n",
       "      <td>190.9</td>\n",
       "      <td>71.4</td>\n",
       "      <td>58.7</td>\n",
       "      <td>8.67</td>\n",
       "      <td>3.78</td>\n",
       "      <td>3.90</td>\n",
       "      <td>22.5</td>\n",
       "      <td>101000.0</td>\n",
       "      <td>6000.0</td>\n",
       "      <td>47.0</td>\n",
       "      <td>53.0</td>\n",
       "      <td>1.80</td>\n",
       "      <td>1330.28</td>\n",
       "      <td>16925.0</td>\n",
       "    </tr>\n",
       "    <tr>\n",
       "      <th>6</th>\n",
       "      <td>188.0</td>\n",
       "      <td>101.2</td>\n",
       "      <td>176.8</td>\n",
       "      <td>64.8</td>\n",
       "      <td>54.3</td>\n",
       "      <td>26.58</td>\n",
       "      <td>3.31</td>\n",
       "      <td>3.19</td>\n",
       "      <td>9.0</td>\n",
       "      <td>121000.0</td>\n",
       "      <td>4250.0</td>\n",
       "      <td>21.0</td>\n",
       "      <td>28.0</td>\n",
       "      <td>7.19</td>\n",
       "      <td>377.06</td>\n",
       "      <td>20970.0</td>\n",
       "    </tr>\n",
       "    <tr>\n",
       "      <th>7</th>\n",
       "      <td>150.0</td>\n",
       "      <td>101.2</td>\n",
       "      <td>176.8</td>\n",
       "      <td>64.8</td>\n",
       "      <td>56.1</td>\n",
       "      <td>26.58</td>\n",
       "      <td>3.03</td>\n",
       "      <td>3.19</td>\n",
       "      <td>8.0</td>\n",
       "      <td>134000.0</td>\n",
       "      <td>4400.0</td>\n",
       "      <td>28.0</td>\n",
       "      <td>37.0</td>\n",
       "      <td>57.37</td>\n",
       "      <td>48.20</td>\n",
       "      <td>21105.0</td>\n",
       "    </tr>\n",
       "  </tbody>\n",
       "</table>\n",
       "</div>"
      ],
      "text/plain": [
       "   normalized-losses  wheel-base  length  width  height  engine-size  bore  \\\n",
       "0              164.0        99.8   176.6   66.2    54.3         8.85  3.19   \n",
       "1              110.0        99.4   162.4   66.4    54.3        15.18  3.19   \n",
       "2              158.0       105.8   192.7   71.4    51.6        15.18  3.94   \n",
       "3              106.0        86.6   158.7   67.7    55.9        13.74  3.13   \n",
       "4              192.0       101.2   176.8   64.8    54.3         8.67  3.50   \n",
       "5              194.0       110.0   190.9   71.4    58.7         8.67  3.78   \n",
       "6              188.0       101.2   176.8   64.8    54.3        26.58  3.31   \n",
       "7              150.0       101.2   176.8   64.8    56.1        26.58  3.03   \n",
       "\n",
       "   stroke  compression-ratio  engine-power  peak-rpm  city-mpg  highway-mpg  \\\n",
       "0    3.40               10.0      102000.0    5500.0      24.0         30.0   \n",
       "1    3.40                8.0      115000.0    5500.0      18.0         22.0   \n",
       "2    2.80                8.5       70000.0    4400.0      28.0         30.0   \n",
       "3    3.50                7.8      140000.0    5600.0      32.0         20.0   \n",
       "4    2.80                8.8      101000.0    5800.0      23.0         29.0   \n",
       "5    3.90               22.5      101000.0    6000.0      47.0         53.0   \n",
       "6    3.19                9.0      121000.0    4250.0      21.0         28.0   \n",
       "7    3.19                8.0      134000.0    4400.0      28.0         37.0   \n",
       "\n",
       "   mean-effective-pressure   torque    price  \n",
       "0                    40.52    57.68  13950.0  \n",
       "1                    47.39    59.59  17450.0  \n",
       "2                     0.85  3344.79  17710.0  \n",
       "3                    44.74    68.97  23875.0  \n",
       "4                    44.78    53.48  16430.0  \n",
       "5                     1.80  1330.28  16925.0  \n",
       "6                     7.19   377.06  20970.0  \n",
       "7                    57.37    48.20  21105.0  "
      ]
     },
     "execution_count": 3,
     "metadata": {},
     "output_type": "execute_result"
    }
   ],
   "source": [
    "auto_numeric.head(8)"
   ]
  },
  {
   "cell_type": "markdown",
   "metadata": {},
   "source": [
    "### ========== Question 1.3 --- [1 mark] ==========\n",
    "Display the summary statistics for the dataset."
   ]
  },
  {
   "cell_type": "markdown",
   "metadata": {},
   "source": [
    "<font color='red'>TASK MARK: 1</font>\n",
    "<br>\n",
    "<font color='green'>COMMENT:  - </font>"
   ]
  },
  {
   "cell_type": "code",
   "execution_count": 4,
   "metadata": {},
   "outputs": [
    {
     "data": {
      "text/html": [
       "<div>\n",
       "<style>\n",
       "    .dataframe thead tr:only-child th {\n",
       "        text-align: right;\n",
       "    }\n",
       "\n",
       "    .dataframe thead th {\n",
       "        text-align: left;\n",
       "    }\n",
       "\n",
       "    .dataframe tbody tr th {\n",
       "        vertical-align: top;\n",
       "    }\n",
       "</style>\n",
       "<table border=\"1\" class=\"dataframe\">\n",
       "  <thead>\n",
       "    <tr style=\"text-align: right;\">\n",
       "      <th></th>\n",
       "      <th>normalized-losses</th>\n",
       "      <th>wheel-base</th>\n",
       "      <th>length</th>\n",
       "      <th>width</th>\n",
       "      <th>height</th>\n",
       "      <th>engine-size</th>\n",
       "      <th>bore</th>\n",
       "      <th>stroke</th>\n",
       "      <th>compression-ratio</th>\n",
       "      <th>engine-power</th>\n",
       "      <th>peak-rpm</th>\n",
       "      <th>city-mpg</th>\n",
       "      <th>highway-mpg</th>\n",
       "      <th>mean-effective-pressure</th>\n",
       "      <th>torque</th>\n",
       "      <th>price</th>\n",
       "    </tr>\n",
       "  </thead>\n",
       "  <tbody>\n",
       "    <tr>\n",
       "      <th>count</th>\n",
       "      <td>159.000000</td>\n",
       "      <td>159.000000</td>\n",
       "      <td>159.000000</td>\n",
       "      <td>159.000000</td>\n",
       "      <td>159.000000</td>\n",
       "      <td>159.000000</td>\n",
       "      <td>159.000000</td>\n",
       "      <td>159.000000</td>\n",
       "      <td>159.000000</td>\n",
       "      <td>159.000000</td>\n",
       "      <td>159.000000</td>\n",
       "      <td>159.000000</td>\n",
       "      <td>159.000000</td>\n",
       "      <td>159.000000</td>\n",
       "      <td>159.000000</td>\n",
       "      <td>159.000000</td>\n",
       "    </tr>\n",
       "    <tr>\n",
       "      <th>mean</th>\n",
       "      <td>121.955975</td>\n",
       "      <td>98.559748</td>\n",
       "      <td>171.698113</td>\n",
       "      <td>65.729560</td>\n",
       "      <td>53.925157</td>\n",
       "      <td>14.056352</td>\n",
       "      <td>3.294528</td>\n",
       "      <td>3.219874</td>\n",
       "      <td>10.446855</td>\n",
       "      <td>98528.301887</td>\n",
       "      <td>5072.012579</td>\n",
       "      <td>27.113208</td>\n",
       "      <td>32.327044</td>\n",
       "      <td>46.180503</td>\n",
       "      <td>200.055031</td>\n",
       "      <td>11684.723270</td>\n",
       "    </tr>\n",
       "    <tr>\n",
       "      <th>std</th>\n",
       "      <td>39.434186</td>\n",
       "      <td>5.803361</td>\n",
       "      <td>12.656791</td>\n",
       "      <td>2.292021</td>\n",
       "      <td>2.410446</td>\n",
       "      <td>17.143568</td>\n",
       "      <td>0.296959</td>\n",
       "      <td>0.381833</td>\n",
       "      <td>4.414796</td>\n",
       "      <td>34123.715967</td>\n",
       "      <td>549.988239</td>\n",
       "      <td>7.848229</td>\n",
       "      <td>8.231998</td>\n",
       "      <td>28.780966</td>\n",
       "      <td>513.289289</td>\n",
       "      <td>6744.910579</td>\n",
       "    </tr>\n",
       "    <tr>\n",
       "      <th>min</th>\n",
       "      <td>65.000000</td>\n",
       "      <td>86.600000</td>\n",
       "      <td>141.100000</td>\n",
       "      <td>60.300000</td>\n",
       "      <td>49.400000</td>\n",
       "      <td>3.390000</td>\n",
       "      <td>2.540000</td>\n",
       "      <td>2.070000</td>\n",
       "      <td>7.000000</td>\n",
       "      <td>48000.000000</td>\n",
       "      <td>4150.000000</td>\n",
       "      <td>15.000000</td>\n",
       "      <td>18.000000</td>\n",
       "      <td>0.490000</td>\n",
       "      <td>19.400000</td>\n",
       "      <td>5118.000000</td>\n",
       "    </tr>\n",
       "    <tr>\n",
       "      <th>25%</th>\n",
       "      <td>93.000000</td>\n",
       "      <td>94.500000</td>\n",
       "      <td>163.400000</td>\n",
       "      <td>64.000000</td>\n",
       "      <td>52.000000</td>\n",
       "      <td>6.960000</td>\n",
       "      <td>3.050000</td>\n",
       "      <td>3.070000</td>\n",
       "      <td>8.600000</td>\n",
       "      <td>69000.000000</td>\n",
       "      <td>4800.000000</td>\n",
       "      <td>22.000000</td>\n",
       "      <td>26.500000</td>\n",
       "      <td>21.775000</td>\n",
       "      <td>34.140000</td>\n",
       "      <td>7372.000000</td>\n",
       "    </tr>\n",
       "    <tr>\n",
       "      <th>50%</th>\n",
       "      <td>110.000000</td>\n",
       "      <td>97.000000</td>\n",
       "      <td>171.700000</td>\n",
       "      <td>65.400000</td>\n",
       "      <td>54.100000</td>\n",
       "      <td>9.030000</td>\n",
       "      <td>3.270000</td>\n",
       "      <td>3.270000</td>\n",
       "      <td>9.000000</td>\n",
       "      <td>92000.000000</td>\n",
       "      <td>5100.000000</td>\n",
       "      <td>26.000000</td>\n",
       "      <td>32.000000</td>\n",
       "      <td>49.800000</td>\n",
       "      <td>55.900000</td>\n",
       "      <td>9233.000000</td>\n",
       "    </tr>\n",
       "    <tr>\n",
       "      <th>75%</th>\n",
       "      <td>145.000000</td>\n",
       "      <td>101.200000</td>\n",
       "      <td>177.800000</td>\n",
       "      <td>66.500000</td>\n",
       "      <td>55.600000</td>\n",
       "      <td>14.885000</td>\n",
       "      <td>3.580000</td>\n",
       "      <td>3.410000</td>\n",
       "      <td>9.400000</td>\n",
       "      <td>116000.000000</td>\n",
       "      <td>5450.000000</td>\n",
       "      <td>31.000000</td>\n",
       "      <td>37.000000</td>\n",
       "      <td>68.495000</td>\n",
       "      <td>119.990000</td>\n",
       "      <td>14719.500000</td>\n",
       "    </tr>\n",
       "    <tr>\n",
       "      <th>max</th>\n",
       "      <td>256.000000</td>\n",
       "      <td>115.600000</td>\n",
       "      <td>202.600000</td>\n",
       "      <td>71.700000</td>\n",
       "      <td>59.800000</td>\n",
       "      <td>174.160000</td>\n",
       "      <td>3.940000</td>\n",
       "      <td>4.170000</td>\n",
       "      <td>23.000000</td>\n",
       "      <td>200000.000000</td>\n",
       "      <td>6600.000000</td>\n",
       "      <td>49.000000</td>\n",
       "      <td>54.000000</td>\n",
       "      <td>99.850000</td>\n",
       "      <td>3912.870000</td>\n",
       "      <td>42056.000000</td>\n",
       "    </tr>\n",
       "  </tbody>\n",
       "</table>\n",
       "</div>"
      ],
      "text/plain": [
       "       normalized-losses  wheel-base      length       width      height  \\\n",
       "count         159.000000  159.000000  159.000000  159.000000  159.000000   \n",
       "mean          121.955975   98.559748  171.698113   65.729560   53.925157   \n",
       "std            39.434186    5.803361   12.656791    2.292021    2.410446   \n",
       "min            65.000000   86.600000  141.100000   60.300000   49.400000   \n",
       "25%            93.000000   94.500000  163.400000   64.000000   52.000000   \n",
       "50%           110.000000   97.000000  171.700000   65.400000   54.100000   \n",
       "75%           145.000000  101.200000  177.800000   66.500000   55.600000   \n",
       "max           256.000000  115.600000  202.600000   71.700000   59.800000   \n",
       "\n",
       "       engine-size        bore      stroke  compression-ratio   engine-power  \\\n",
       "count   159.000000  159.000000  159.000000         159.000000     159.000000   \n",
       "mean     14.056352    3.294528    3.219874          10.446855   98528.301887   \n",
       "std      17.143568    0.296959    0.381833           4.414796   34123.715967   \n",
       "min       3.390000    2.540000    2.070000           7.000000   48000.000000   \n",
       "25%       6.960000    3.050000    3.070000           8.600000   69000.000000   \n",
       "50%       9.030000    3.270000    3.270000           9.000000   92000.000000   \n",
       "75%      14.885000    3.580000    3.410000           9.400000  116000.000000   \n",
       "max     174.160000    3.940000    4.170000          23.000000  200000.000000   \n",
       "\n",
       "          peak-rpm    city-mpg  highway-mpg  mean-effective-pressure  \\\n",
       "count   159.000000  159.000000   159.000000               159.000000   \n",
       "mean   5072.012579   27.113208    32.327044                46.180503   \n",
       "std     549.988239    7.848229     8.231998                28.780966   \n",
       "min    4150.000000   15.000000    18.000000                 0.490000   \n",
       "25%    4800.000000   22.000000    26.500000                21.775000   \n",
       "50%    5100.000000   26.000000    32.000000                49.800000   \n",
       "75%    5450.000000   31.000000    37.000000                68.495000   \n",
       "max    6600.000000   49.000000    54.000000                99.850000   \n",
       "\n",
       "            torque         price  \n",
       "count   159.000000    159.000000  \n",
       "mean    200.055031  11684.723270  \n",
       "std     513.289289   6744.910579  \n",
       "min      19.400000   5118.000000  \n",
       "25%      34.140000   7372.000000  \n",
       "50%      55.900000   9233.000000  \n",
       "75%     119.990000  14719.500000  \n",
       "max    3912.870000  42056.000000  "
      ]
     },
     "execution_count": 4,
     "metadata": {},
     "output_type": "execute_result"
    }
   ],
   "source": [
    "auto_numeric.describe()"
   ]
  },
  {
   "cell_type": "markdown",
   "metadata": {},
   "source": [
    "### ========== Question 1.4 --- [2 marks] ==========\n",
    "Produce a scatter plot of `price` against `engine-power`. Label axes appropriately and include a title in your plot."
   ]
  },
  {
   "cell_type": "markdown",
   "metadata": {},
   "source": [
    "<font color='red'>TASK MARK: 2</font>\n",
    "<br>\n",
    "<font color='green'>COMMENT:  - </font>"
   ]
  },
  {
   "cell_type": "code",
   "execution_count": 5,
   "metadata": {
    "scrolled": true
   },
   "outputs": [
    {
     "data": {
      "image/png": "[encoded data removed]",
      "text/plain": [
       "<matplotlib.figure.Figure at 0x7faa6e478bd0>"
      ]
     },
     "metadata": {},
     "output_type": "display_data"
    }
   ],
   "source": [
    "plt.scatter(auto_numeric[\"engine-power\"], auto_numeric[\"price\"])\n",
    "plt.ylabel(\"price\")\n",
    "plt.xlabel(\"engine power\")\n",
    "plt.title(\"price vs engine power of automobile\")\n",
    "plt.show()"
   ]
  },
  {
   "cell_type": "markdown",
   "metadata": {},
   "source": [
    "### ========== Question 1.5 --- [2 marks] ==========\n",
    "Do you think that engine-power alone is sufficient for predicting the price? Can you make any other observations on the data from the above plot? Please explain your answer in 2-3 sentences. "
   ]
  },
  {
   "cell_type": "markdown",
   "metadata": {},
   "source": [
    "<font color='red'>TASK MARK: 2</font>\n",
    "<br>\n",
    "<font color='green'>COMMENT: Yes.</font>"
   ]
  },
  {
   "cell_type": "markdown",
   "metadata": {},
   "source": [
    "The engine power is not enough to predict the price. The plot shows a weak linear correlation between the engine power and the price. Most of the prices are within the the 5000-25000 bracket and are concentrated around 10000 (irrespective of the engine power) with quite a few outliers.  "
   ]
  },
  {
   "cell_type": "markdown",
   "metadata": {},
   "source": [
    "### ========== Question 1.6 --- [2 marks] ==========\n",
    "Visualise the distribution of the car prices. Choose a sensible value for the number of bins in the histogram. Again, label axes appropriately and include a title in your plot."
   ]
  },
  {
   "cell_type": "markdown",
   "metadata": {},
   "source": [
    "<font color='red'>TASK MARK: 2</font>\n",
    "<br>\n",
    "<font color='green'>COMMENT:  - </font>"
   ]
  },
  {
   "cell_type": "code",
   "execution_count": 6,
   "metadata": {},
   "outputs": [
    {
     "data": {
      "image/png": "[encoded data removed]",
      "text/plain": [
       "<matplotlib.figure.Figure at 0x7faa6b02ce10>"
      ]
     },
     "metadata": {},
     "output_type": "display_data"
    }
   ],
   "source": [
    "plt.hist(auto_numeric[\"price\"], 20)\n",
    "plt.xlabel(\"price\")\n",
    "plt.ylabel(\"count\")\n",
    "plt.title(\"Frequency distribution of car prices\")\n",
    "plt.show()"
   ]
  },
  {
   "cell_type": "markdown",
   "metadata": {},
   "source": [
    "### ========== Question 1.7 --- [2 marks] ==========\n",
    "How could you preprocess the data to improve the performance of linear regression? Don’t do it at this stage, but instead in one sentence explain why you would do what you suggested."
   ]
  },
  {
   "cell_type": "markdown",
   "metadata": {},
   "source": [
    "<font color='red'>TASK MARK: 0</font>\n",
    "<br>\n",
    "<font color='green'>COMMENT:  Here, the outliers are not invalid datapoints- they're just expensive cars, and as such, removing them would be inappropriate. A log transform would be better. </font>"
   ]
  },
  {
   "cell_type": "markdown",
   "metadata": {},
   "source": [
    "We could visualise the data, making sure the relationship between the residuals and predicted values is not obviously nonlinear, and then remove the outliers before fiting the data to the model. We do this to make sure linear regression line is appropriate to the the data"
   ]
  },
  {
   "cell_type": "markdown",
   "metadata": {},
   "source": [
    "### ========== Question 1.8 --- [1 mark] ==========\n",
    "Now we want to build a simple linear regression model. First we need to define our input and target variables. Store the values of the attribute `engine-power` in a vector `X` and the values of our target variable `price` in a vector `y`."
   ]
  },
  {
   "cell_type": "markdown",
   "metadata": {},
   "source": [
    "<font color='red'>TASK MARK: 1</font>\n",
    "<br>\n",
    "<font color='green'>COMMENT:  - </font>"
   ]
  },
  {
   "cell_type": "code",
   "execution_count": 7,
   "metadata": {
    "collapsed": true
   },
   "outputs": [],
   "source": [
    "X = auto_numeric[\"engine-power\"]\n",
    "y = auto_numeric[\"price\"]"
   ]
  },
  {
   "cell_type": "markdown",
   "metadata": {},
   "source": [
    "### ========== Question 1.9 --- [1 mark] ==========\n",
    "For technical reasons, we need to convert `X` into a 2D array, otherwise we will receive an error when trying to use it for building models. Perform this transformation and confirm that the shape of the resulting array is (`n`,1) where `n` is the number of instances in the dataset. "
   ]
  },
  {
   "cell_type": "markdown",
   "metadata": {},
   "source": [
    "<font color='red'>TASK MARK: 1</font>\n",
    "<br>\n",
    "<font color='green'>COMMENT:  - </font>"
   ]
  },
  {
   "cell_type": "code",
   "execution_count": 8,
   "metadata": {},
   "outputs": [
    {
     "name": "stderr",
     "output_type": "stream",
     "text": [
      "/afs/inf.ed.ac.uk/user/s15/s1558717/miniconda2/envs/iaml/lib/python2.7/site-packages/ipykernel_launcher.py:1: FutureWarning: reshape is deprecated and will raise in a subsequent release. Please use .values.reshape(...) instead\n",
      "  \"\"\"Entry point for launching an IPython kernel.\n"
     ]
    },
    {
     "data": {
      "text/plain": [
       "(159, 1)"
      ]
     },
     "execution_count": 8,
     "metadata": {},
     "output_type": "execute_result"
    }
   ],
   "source": [
    "X = X.reshape(X.shape[0], 1)\n",
    "X.shape"
   ]
  },
  {
   "cell_type": "markdown",
   "metadata": {},
   "source": [
    "### ========== Question 1.10 --- [1 mark] ==========\n",
    "Now we want to use Hold-out validation to split the dataset into training and testing subsets. Use 80% of the data for training and the remaining 20% for testing. Store your data into matrices `X_train`, `X_test`, `y_train`, `y_test`."
   ]
  },
  {
   "cell_type": "markdown",
   "metadata": {},
   "source": [
    "<font color='red'>TASK MARK: 1</font>\n",
    "<br>\n",
    "<font color='green'>COMMENT:  - </font>"
   ]
  },
  {
   "cell_type": "code",
   "execution_count": 9,
   "metadata": {
    "collapsed": true
   },
   "outputs": [],
   "source": [
    "X_train, X_test, y_train, y_test = train_test_split(X, y, train_size = 0.8, test_size=0.2, random_state=0)"
   ]
  },
  {
   "cell_type": "markdown",
   "metadata": {},
   "source": [
    "### ========== Question 1.11 --- [2 marks] ==========\n",
    "By using Scikit-learn's [`LinearRegression`](http://scikit-learn.org/stable/modules/generated/sklearn.linear_model.LinearRegression.html) fit a model to the training data. When initialising the model, set the `normalize` parameter to `True` and use default settings for the other parameters."
   ]
  },
  {
   "cell_type": "markdown",
   "metadata": {},
   "source": [
    "<font color='red'>TASK MARK: 2</font>\n",
    "<br>\n",
    "<font color='green'>COMMENT:  - </font>"
   ]
  },
  {
   "cell_type": "code",
   "execution_count": 10,
   "metadata": {},
   "outputs": [
    {
     "data": {
      "text/plain": [
       "LinearRegression(copy_X=True, fit_intercept=True, n_jobs=1, normalize=True)"
      ]
     },
     "execution_count": 10,
     "metadata": {},
     "output_type": "execute_result"
    }
   ],
   "source": [
    "lm = LinearRegression(normalize=True)\n",
    "lm.fit(X_train, y_train)"
   ]
  },
  {
   "cell_type": "markdown",
   "metadata": {},
   "source": [
    "### ========== Question 1.12 --- [2 marks] ==========\n",
    "By looking into the attributes of your model, write down an equation for predicting the price of a car given the engine-power."
   ]
  },
  {
   "cell_type": "markdown",
   "metadata": {},
   "source": [
    "<font color='red'>TASK MARK: 2</font>\n",
    "<br>\n",
    "<font color='green'>COMMENT:  Avoid spurious precision. </font>"
   ]
  },
  {
   "cell_type": "code",
   "execution_count": 11,
   "metadata": {},
   "outputs": [
    {
     "name": "stdout",
     "output_type": "stream",
     "text": [
      "y = [ 0.08988389] * X + 2823.1218911\n"
     ]
    }
   ],
   "source": [
    "m = lm.coef_\n",
    "c = lm.intercept_\n",
    "print (\"y = {} * X + {}\" .format(m, c))\n",
    "#x is the engine power and y is the price"
   ]
  },
  {
   "cell_type": "markdown",
   "metadata": {},
   "source": [
    "### ========== Question 1.13 --- [3 marks] ==========\n",
    "What happens to the price as one more unit of engine-power is added? By examining the magnitude of the regression coefficient is it possible to tell whether or not engine-power is an important influential variable on price? Explain your answer in 1-2 sentences."
   ]
  },
  {
   "cell_type": "markdown",
   "metadata": {},
   "source": [
    "<font color='red'>TASK MARK: 0</font>\n",
    "<br>\n",
    "<font color='green'>COMMENT:  You should be clear here about the units involved; your regression coefficient is 9p. To understand whether this is a meaningful increment per unit of engine power, you must understand how variable engine power can be - i.e., a 20,000 unit increase in engine power by itself adds £1,800 to the price, which is not a small effect at all. </font>"
   ]
  },
  {
   "cell_type": "markdown",
   "metadata": {},
   "source": [
    "When one more unit of engine power is added, the price goes up by 0.089 as the coefficient is positive and indicates increase in price. However because the coefficient is so small(less than 0.1), the engine power is not an important influential on price. "
   ]
  },
  {
   "cell_type": "markdown",
   "metadata": {},
   "source": [
    "### ========== Question 1.14 --- [2 marks] ==========\n",
    "Produce a scatter plot similar to the one in Question 1.4 but use training data only this time. Add the regression line to the plot and show the predictions on the training set by using a different marker. Label axes appropriately and add a title to the graph. "
   ]
  },
  {
   "cell_type": "markdown",
   "metadata": {},
   "source": [
    "<font color='red'>TASK MARK: 2</font>\n",
    "<br>\n",
    "<font color='green'>COMMENT:  - </font>"
   ]
  },
  {
   "cell_type": "code",
   "execution_count": 12,
   "metadata": {},
   "outputs": [
    {
     "data": {
      "image/png": "[encoded data removed]",
      "text/plain": [
       "<matplotlib.figure.Figure at 0x7faa6af606d0>"
      ]
     },
     "metadata": {},
     "output_type": "display_data"
    }
   ],
   "source": [
    "plt.scatter(X_train, y_train)\n",
    "plt.plot(X_train, ((m*X_train) + c), \"g-\", linewidth = 3)\n",
    "plt.plot(X_train, ((m*X_train) + c), \"yo\")\n",
    "plt.xlabel(\"price\")\n",
    "plt.ylabel(\"engine power\")\n",
    "plt.title(\"price vs engine power of automobile\")\n",
    "plt.show()"
   ]
  },
  {
   "cell_type": "markdown",
   "metadata": {},
   "source": [
    "### ========== Question 1.15 --- [2 marks] ==========\n",
    "So far we have used Hold-out validation. Can you think of a disadvantage of using this method, especially when dealing with small datasets?"
   ]
  },
  {
   "cell_type": "markdown",
   "metadata": {},
   "source": [
    "<font color='red'>TASK MARK: 2</font>\n",
    "<br>\n",
    "<font color='green'>COMMENT:  Precisely. </font>"
   ]
  },
  {
   "cell_type": "markdown",
   "metadata": {},
   "source": [
    "In hold out validation, data points are randomly assigned to the training set and the testing set. With small datasets, the noise can significantly affect regression accuracy and the error might be much different every time we fit the model as it depends on how the division of the datapoints has been made (which is random). There might be a severe imbalance of classes in the training and testing sets when we are using hold out validation on small datasets."
   ]
  },
  {
   "cell_type": "markdown",
   "metadata": {},
   "source": [
    "### ========== Question 1.16 --- [1 mark] ==========\n",
    "Now we want to use k-fold cross-validation to evaluate the performance of the regression model. Famliriase yourself with the sklearn method [`KFold`](http://scikit-learn.org/stable/modules/generated/sklearn.model_selection.KFold.html) and make sure you understand the differences between Hold-out and K-fold cross-validation. By using Scikit-learn's [`KFold`](http://scikit-learn.org/stable/modules/generated/sklearn.model_selection.KFold.html) class construct a 5-fold cross-validation object. Set the `shuffle` parameter to `True` and `random_state` to `0`. Use the object to print the training and validation indices for the `auto_numeric` dataset (hint: see the `split` method)."
   ]
  },
  {
   "cell_type": "markdown",
   "metadata": {},
   "source": [
    "<font color='red'>TASK MARK: 1</font>\n",
    "<br>\n",
    "<font color='green'>COMMENT:  - </font>"
   ]
  },
  {
   "cell_type": "code",
   "execution_count": 13,
   "metadata": {},
   "outputs": [
    {
     "name": "stdout",
     "output_type": "stream",
     "text": [
      "TRAIN: [  0   1   2   3   4   5   6   9  10  11  12  13  14  15  16  17  18  20\n",
      "  21  22  23  25  27  28  29  30  31  32  34  35  36  38  39  41  42  43\n",
      "  46  47  48  49  50  51  52  53  55  57  58  64  65  66  67  68  69  70\n",
      "  71  72  73  74  75  76  77  78  79  80  81  82  84  87  88  89  91  92\n",
      "  93  94  96  97  98  99 100 101 102 103 104 105 106 107 108 109 111 112\n",
      " 113 114 115 116 117 118 121 122 123 124 125 127 129 130 132 133 135 136\n",
      " 137 138 139 140 141 143 145 146 147 149 150 151 152 153 154 155 156 157\n",
      " 158] \n",
      "\n",
      " TEST: [  7   8  19  24  26  33  37  40  44  45  54  56  59  60  61  62  63  83\n",
      "  85  86  90  95 110 119 120 126 128 131 134 142 144 148] \n",
      "\n",
      "\n",
      "TRAIN: [  0   1   3   4   5   6   7   8   9  11  12  13  14  15  17  19  20  21\n",
      "  23  24  25  26  28  29  31  32  33  34  35  36  37  38  39  40  41  42\n",
      "  44  45  46  47  48  49  50  52  53  54  55  56  57  58  59  60  61  62\n",
      "  63  64  65  67  68  69  70  72  75  76  77  78  79  81  82  83  84  85\n",
      "  86  87  88  90  91  92  94  95  98  99 102 103 104 105 106 110 111 112\n",
      " 114 115 116 117 118 119 120 121 122 123 124 125 126 127 128 129 131 133\n",
      " 134 135 136 137 138 139 140 141 142 144 145 147 148 149 151 152 154 155\n",
      " 158] \n",
      "\n",
      " TEST: [  2  10  16  18  22  27  30  43  51  66  71  73  74  80  89  93  96  97\n",
      " 100 101 107 108 109 113 130 132 143 146 150 153 156 157] \n",
      "\n",
      "\n",
      "TRAIN: [  0   1   2   4   5   7   8   9  10  11  14  16  17  18  19  21  22  24\n",
      "  25  26  27  28  29  30  31  32  33  34  35  36  37  38  39  40  41  42\n",
      "  43  44  45  46  47  51  53  54  55  56  57  58  59  60  61  62  63  65\n",
      "  66  67  70  71  72  73  74  77  79  80  81  82  83  85  86  87  88  89\n",
      "  90  91  93  95  96  97  99 100 101 102 103 104 105 107 108 109 110 113\n",
      " 114 115 116 117 119 120 121 123 124 126 127 128 129 130 131 132 133 134\n",
      " 136 137 139 140 142 143 144 146 147 148 149 150 151 152 153 154 155 156\n",
      " 157] \n",
      "\n",
      " TEST: [  3   6  12  13  15  20  23  48  49  50  52  64  68  69  75  76  78  84\n",
      "  92  94  98 106 111 112 118 122 125 135 138 141 145 158] \n",
      "\n",
      "\n",
      "TRAIN: [  2   3   6   7   8   9  10  12  13  15  16  18  19  20  21  22  23  24\n",
      "  25  26  27  29  30  31  32  33  36  37  39  40  43  44  45  47  48  49\n",
      "  50  51  52  54  56  58  59  60  61  62  63  64  66  67  68  69  70  71\n",
      "  72  73  74  75  76  77  78  79  80  81  82  83  84  85  86  87  88  89\n",
      "  90  92  93  94  95  96  97  98  99 100 101 103 106 107 108 109 110 111\n",
      " 112 113 114 115 117 118 119 120 122 125 126 127 128 130 131 132 133 134\n",
      " 135 138 139 140 141 142 143 144 145 146 148 149 150 151 153 154 156 157\n",
      " 158] \n",
      "\n",
      " TEST: [  0   1   4   5  11  14  17  28  34  35  38  41  42  46  53  55  57  65\n",
      "  91 102 104 105 116 121 123 124 129 136 137 147 152 155] \n",
      "\n",
      "\n",
      "TRAIN: [  0   1   2   3   4   5   6   7   8  10  11  12  13  14  15  16  17  18\n",
      "  19  20  22  23  24  26  27  28  30  33  34  35  37  38  40  41  42  43\n",
      "  44  45  46  48  49  50  51  52  53  54  55  56  57  59  60  61  62  63\n",
      "  64  65  66  68  69  71  73  74  75  76  78  80  83  84  85  86  89  90\n",
      "  91  92  93  94  95  96  97  98 100 101 102 104 105 106 107 108 109 110\n",
      " 111 112 113 116 118 119 120 121 122 123 124 125 126 128 129 130 131 132\n",
      " 134 135 136 137 138 141 142 143 144 145 146 147 148 150 152 153 155 156\n",
      " 157 158] \n",
      "\n",
      " TEST: [  9  21  25  29  31  32  36  39  47  58  67  70  72  77  79  81  82  87\n",
      "  88  99 103 114 115 117 127 133 139 140 149 151 154] \n",
      "\n",
      "\n"
     ]
    }
   ],
   "source": [
    "kf = KFold(n_splits=5, shuffle=True, random_state=0)\n",
    "for train_index, test_index in kf.split(X):\n",
    "    print(\"TRAIN:\", train_index, \"\\n\\n\", \"TEST:\", test_index, \"\\n\\n\")"
   ]
  },
  {
   "cell_type": "markdown",
   "metadata": {},
   "source": [
    "### ========== Question 1.17 --- [3 marks] ==========\n",
    "By making use of the iterator you constructed in the previous question, loop through the 5 folds and display the mean value of the `price` variable for the training instances in each fold."
   ]
  },
  {
   "cell_type": "markdown",
   "metadata": {},
   "source": [
    "<font color='red'>TASK MARK: 2</font>\n",
    "<br>\n",
    "<font color='green'>COMMENT:  Avoid spurious precision. </font>"
   ]
  },
  {
   "cell_type": "code",
   "execution_count": 14,
   "metadata": {},
   "outputs": [
    {
     "name": "stdout",
     "output_type": "stream",
     "text": [
      "11853.2677165\n",
      "11635.976378\n",
      "11689.8740157\n",
      "11709.8267717\n",
      "11535.84375\n"
     ]
    }
   ],
   "source": [
    "for train_index, test_index in kf.split(X):\n",
    "    sum_price = 0\n",
    "    for index in train_index:\n",
    "        sum_price = sum_price + y[index] #y is the price vector\n",
    "    sum_price = sum_price/train_index.shape[0]\n",
    "    print (sum_price)"
   ]
  },
  {
   "cell_type": "markdown",
   "metadata": {},
   "source": [
    "### ========== Question 1.18 --- [3 marks] ==========\n",
    "Now initialise a new `LinearRegression` model and fit it by making use of the cross-validation iterator, the `X` and `y` arrays defined above and the [`cross_val_predict`](http://scikit-learn.org/stable/modules/generated/sklearn.model_selection.cross_val_predict.html) function. Display the shape of your prediction and confirm it has the same dimensionality as your `y` vector."
   ]
  },
  {
   "cell_type": "markdown",
   "metadata": {},
   "source": [
    "<font color='red'>TASK MARK: 3</font>\n",
    "<br>\n",
    "<font color='green'>COMMENT:  - </font>"
   ]
  },
  {
   "cell_type": "code",
   "execution_count": 15,
   "metadata": {},
   "outputs": [
    {
     "name": "stdout",
     "output_type": "stream",
     "text": [
      "(159,)\n",
      "(159,)\n"
     ]
    }
   ],
   "source": [
    "lm_new = LinearRegression(normalize=True)\n",
    "y_pred = cross_val_predict(lm_new, X, y, cv = kf.split(X))\n",
    "print (y_pred.shape)\n",
    "print (y.shape)"
   ]
  },
  {
   "cell_type": "markdown",
   "metadata": {},
   "source": [
    "### ========== Question 1.19 --- [2 marks] ==========\n",
    "Report the Coefficient of Determination (R^2), Root Mean Squared Error (RMSE), Mean Absolute Error (MAE) and Correlation Coefficient (CC) from the simple linear regression model you build in Question 1.18. *Hint: RMSE is the square root of the Mean Squared Error (MSE). For CC you might find numpy's [`corrcoef`](http://docs.scipy.org/doc/numpy/reference/generated/numpy.corrcoef.html) function useful.* "
   ]
  },
  {
   "cell_type": "markdown",
   "metadata": {},
   "source": [
    "<font color='red'>TASK MARK: 2</font>\n",
    "<br>\n",
    "<font color='green'>COMMENT:  Avoid spurious precision. </font>"
   ]
  },
  {
   "cell_type": "code",
   "execution_count": 16,
   "metadata": {},
   "outputs": [
    {
     "name": "stdout",
     "output_type": "stream",
     "text": [
      "The Coefficient of Determination is : 0.173005270976\n",
      "The Root mean squared error is : 6114.45211862\n",
      "The Mean absolute error is : 3987.95779619\n",
      "The Correlation Coefficient is : \n",
      "  0.417122199043\n"
     ]
    }
   ],
   "source": [
    "print (\"The Coefficient of Determination is : {}\" .format(r2_score(y, y_pred)))\n",
    "rmse = np.sqrt(mean_squared_error(y, y_pred))\n",
    "print (\"The Root mean squared error is : {}\" .format(rmse))\n",
    "print (\"The Mean absolute error is : {}\" .format(mean_absolute_error(y, y_pred)))\n",
    "print (\"The Correlation Coefficient is : \\n  {}\" .format((np.corrcoef(y, y_pred))[0][1]))"
   ]
  },
  {
   "cell_type": "markdown",
   "metadata": {},
   "source": [
    "### ========== Question 1.20 --- [4 marks] ==========\n",
    "What do the above metrics intend to measure? Relate the values of CC, MAE and RMSE to the observations you made in Question 1.5. Explain your answer in 1-2 short paragraphs."
   ]
  },
  {
   "cell_type": "markdown",
   "metadata": {},
   "source": [
    "<font color='red'>TASK MARK: 2</font>\n",
    "<br>\n",
    "<font color='green'>COMMENT:   Explain how the metrics actually work, please.</font>"
   ]
  },
  {
   "cell_type": "markdown",
   "metadata": {},
   "source": [
    "The above metrics are meant to basically measure the distance between the predicted and true values. Because we have high values of Root Mean squared error and Mean absolute error, most of the predicted values are very far off from the actual values of price. This accounts for most of the outliers seen in 1.5.\n",
    "\n",
    "We have a moderate value of the correlation coefficient becuase some of the predicted values may be close to the actual values (because linear regression draws a line through the model and some points are bound to be very close to the line). This shows that there is a very weak positive linear relationship between the engine power and price."
   ]
  },
  {
   "cell_type": "markdown",
   "metadata": {},
   "source": [
    "### ========== Question 1.21 --- [3 marks] ==========\n",
    "Show a histogram of the residuals of the linear regression model (i.e. true - predicted values). Label axes appropriately and add a title to your plot. Does the distribution of residuals look like what you expected?"
   ]
  },
  {
   "cell_type": "markdown",
   "metadata": {},
   "source": [
    "<font color='red'>TASK MARK: 1</font>\n",
    "<br>\n",
    "<font color='green'>COMMENT:   What can you say about the distribution here?</font>"
   ]
  },
  {
   "cell_type": "code",
   "execution_count": 17,
   "metadata": {},
   "outputs": [
    {
     "data": {
      "image/png": "[encoded data removed]",
      "text/plain": [
       "<matplotlib.figure.Figure at 0x7faa6a5909d0>"
      ]
     },
     "metadata": {},
     "output_type": "display_data"
    }
   ],
   "source": [
    "res = y - y_pred\n",
    "plt.hist(res, 50)\n",
    "plt.xlabel(\"residuals\")\n",
    "plt.ylabel(\"counts\")\n",
    "plt.title(\"Frequency distribution of residuals\")\n",
    "plt.show()"
   ]
  },
  {
   "cell_type": "markdown",
   "metadata": {},
   "source": [
    "We see that the majority of residuals are negative. This is appropriate because the larger values and outliers shifted the regression line upwards to predict higher values, resulting in more negative residuals due to the concentation of prices in the lower bracket (around 10000). "
   ]
  },
  {
   "cell_type": "markdown",
   "metadata": {},
   "source": [
    "### ========== Question 1.22 --- [2 marks] ==========\n",
    "Load the new dataset `train_auto_base.csv` into a pandas DataFrame `auto_base`. Again by using the `engine-power` attribute as predictor and `price` as target variable build a LinearRegression model on this dataset. Report the R^2, RMSE, MAE and CC metrics for this model by making use of the K-fold CV iterator constructed in Question 1.16."
   ]
  },
  {
   "cell_type": "markdown",
   "metadata": {},
   "source": [
    "<font color='red'>TASK MARK: 2</font>\n",
    "<br>\n",
    "<font color='green'>COMMENT:  Avoid spurious precision. </font>"
   ]
  },
  {
   "cell_type": "code",
   "execution_count": 18,
   "metadata": {},
   "outputs": [
    {
     "name": "stdout",
     "output_type": "stream",
     "text": [
      "The Coefficient of Determination is : -0.00213595381121\n",
      "The Root mean squared error is : 6730.84360395\n",
      "The Mean absolute error is : 4901.86096203\n",
      "The Correlation Coefficient is : \n",
      "  -0.0619144160589\n"
     ]
    }
   ],
   "source": [
    "data_path_1 = os.path.join(os.getcwd(), 'datasets', 'train_auto_base.csv')\n",
    "auto_base = pd.read_csv(data_path_1, delimiter = ',')\n",
    "X_base = auto_base[\"engine-power\"]\n",
    "y_base = auto_base[\"price\"]\n",
    "X_base = X_base.values.reshape(X_base.shape[0], 1)\n",
    "lr = LinearRegression(normalize=True)\n",
    "y_base_pred = cross_val_predict(lr, X_base, y_base, cv = kf)\n",
    "print (\"The Coefficient of Determination is : {}\" .format(r2_score(y_base, y_base_pred)))\n",
    "rmse = np.sqrt(mean_squared_error(y_base, y_base_pred))\n",
    "print (\"The Root mean squared error is : {}\" .format(rmse))\n",
    "print (\"The Mean absolute error is : {}\" .format(mean_absolute_error(y_base, y_base_pred)))\n",
    "print (\"The Correlation Coefficient is : \\n  {}\" .format((np.corrcoef(y_base, y_base_pred))[0][1]))"
   ]
  },
  {
   "cell_type": "markdown",
   "metadata": {},
   "source": [
    "### ========== Question 1.23 --- [2 marks] ==========\n",
    "Show a scatter plot of predicted vs. true prices and another one of predicted price vs. engine-power. Use a single plot with two subplots. Label axes appropriately."
   ]
  },
  {
   "cell_type": "markdown",
   "metadata": {},
   "source": [
    "<font color='red'>TASK MARK: 2</font>\n",
    "<br>\n",
    "<font color='green'>COMMENT:  - </font>"
   ]
  },
  {
   "cell_type": "code",
   "execution_count": 19,
   "metadata": {
    "scrolled": true
   },
   "outputs": [
    {
     "data": {
      "image/png": "[encoded data removed]",
      "text/plain": [
       "<matplotlib.figure.Figure at 0x7faa6b0ec490>"
      ]
     },
     "metadata": {},
     "output_type": "display_data"
    }
   ],
   "source": [
    "fig, ax = plt.subplots(1, 2, figsize=(12,12))\n",
    "ax[0].scatter(y_base, y_base_pred)\n",
    "ax[0].set_title(\"predicted vs true prices\")\n",
    "ax[0].set_xlabel(\"True prices\")\n",
    "ax[0].set_ylabel(\"predicted prices\")\n",
    "ax[1].scatter(X_base, y_base_pred)\n",
    "ax[1].set_title(\"predicted price vs engine power\")\n",
    "ax[1].set_xlabel(\"engine power\")\n",
    "ax[1].set_ylabel(\"predicted prices\")\n",
    "plt.show()"
   ]
  },
  {
   "cell_type": "markdown",
   "metadata": {},
   "source": [
    "### ========== Question 1.24 --- [3 marks] ==========\n",
    "What is the simplest baseline model for the purposes of regression? Relate your answer to the regression model you have just built as part of this question. Can the predictions of this model be justified given the procedure you followed to train it?"
   ]
  },
  {
   "cell_type": "markdown",
   "metadata": {},
   "source": [
    "<font color='red'>TASK MARK: 3</font>\n",
    "<br>\n",
    "<font color='green'>COMMENT:  Yes. </font>"
   ]
  },
  {
   "cell_type": "markdown",
   "metadata": {},
   "source": [
    "The simplest baseline model is to assume the fixed mean of the variable we are predicting for all predicitions. This basically means that the predictions are based only on the average  values of the prices as the engine power values are the same for all datapoints. \n",
    "\n",
    "For our regression model, we can see 5 lines of data points in the True vs Predicted prices graph. This basically shows that the mean of prices has been taken 5 times for the 5 different folds of datapoints generated.\n",
    "\n",
    "The predicitions of this model can't be justified because the predicted values set is basically a straight line which is gonna be correct or very close to the actual value a few times and have a huge error in difference with the original value most of the other times."
   ]
  },
  {
   "cell_type": "markdown",
   "metadata": {},
   "source": [
    "### ========== Question 1.25 --- [2 marks] ==========\n",
    "Why do you think this model performs so poorly? (*Hint: Justify your answer by displaying some statistics about the `auto_base` dataset.*)"
   ]
  },
  {
   "cell_type": "markdown",
   "metadata": {},
   "source": [
    "<font color='red'>TASK MARK: 1</font>\n",
    "<br>\n",
    "<font color='green'>COMMENT:  True, but you also ought to refer to the fact that the dataset has zero variance for engine-power, so it has zero predictive power. </font>"
   ]
  },
  {
   "cell_type": "code",
   "execution_count": 20,
   "metadata": {},
   "outputs": [
    {
     "data": {
      "text/html": [
       "<div>\n",
       "<style>\n",
       "    .dataframe thead tr:only-child th {\n",
       "        text-align: right;\n",
       "    }\n",
       "\n",
       "    .dataframe thead th {\n",
       "        text-align: left;\n",
       "    }\n",
       "\n",
       "    .dataframe tbody tr th {\n",
       "        vertical-align: top;\n",
       "    }\n",
       "</style>\n",
       "<table border=\"1\" class=\"dataframe\">\n",
       "  <thead>\n",
       "    <tr style=\"text-align: right;\">\n",
       "      <th></th>\n",
       "      <th>engine-power</th>\n",
       "      <th>price</th>\n",
       "    </tr>\n",
       "  </thead>\n",
       "  <tbody>\n",
       "    <tr>\n",
       "      <th>count</th>\n",
       "      <td>159.0</td>\n",
       "      <td>159.000000</td>\n",
       "    </tr>\n",
       "    <tr>\n",
       "      <th>mean</th>\n",
       "      <td>1.0</td>\n",
       "      <td>11684.723270</td>\n",
       "    </tr>\n",
       "    <tr>\n",
       "      <th>std</th>\n",
       "      <td>0.0</td>\n",
       "      <td>6744.910579</td>\n",
       "    </tr>\n",
       "    <tr>\n",
       "      <th>min</th>\n",
       "      <td>1.0</td>\n",
       "      <td>5118.000000</td>\n",
       "    </tr>\n",
       "    <tr>\n",
       "      <th>25%</th>\n",
       "      <td>1.0</td>\n",
       "      <td>7372.000000</td>\n",
       "    </tr>\n",
       "    <tr>\n",
       "      <th>50%</th>\n",
       "      <td>1.0</td>\n",
       "      <td>9233.000000</td>\n",
       "    </tr>\n",
       "    <tr>\n",
       "      <th>75%</th>\n",
       "      <td>1.0</td>\n",
       "      <td>14719.500000</td>\n",
       "    </tr>\n",
       "    <tr>\n",
       "      <th>max</th>\n",
       "      <td>1.0</td>\n",
       "      <td>42056.000000</td>\n",
       "    </tr>\n",
       "  </tbody>\n",
       "</table>\n",
       "</div>"
      ],
      "text/plain": [
       "       engine-power         price\n",
       "count         159.0    159.000000\n",
       "mean            1.0  11684.723270\n",
       "std             0.0   6744.910579\n",
       "min             1.0   5118.000000\n",
       "25%             1.0   7372.000000\n",
       "50%             1.0   9233.000000\n",
       "75%             1.0  14719.500000\n",
       "max             1.0  42056.000000"
      ]
     },
     "execution_count": 20,
     "metadata": {},
     "output_type": "execute_result"
    }
   ],
   "source": [
    "auto_base.describe()"
   ]
  },
  {
   "cell_type": "markdown",
   "metadata": {},
   "source": [
    "As we can see here, all the values of engine power are 1. There is no correlation between the engine power and price and therefore the model predicts price values only on the basis of average price values. Therefore it performs badly and is very close to the actual value only very few times."
   ]
  },
  {
   "cell_type": "markdown",
   "metadata": {},
   "source": [
    "## 2. Multivariate Linear Regression [50%]\n",
    "In this Section we will fit a Multivariate Linear Regression model (LinearRegression) to the dataset. In contrast to Part 1, we will now train a model with multiple explanatory variables and ascertain how they affect our ability to predict the retail price of a car. One of our foremost concerns will be to determine exactly which attributes to include in the model and which may be left out."
   ]
  },
  {
   "cell_type": "markdown",
   "metadata": {},
   "source": [
    "### ========== Question 2.1 --- [10 marks] ==========\n",
    "Use the original dataset (`auto_numeric`) and a visualisation tool of your choice to examine whether or not any of the other attributes are particularly good at predicting the price. Can you find any? Do any attributes appear useless at predicting the price? Do any attributes exhibit significant correlations? As you answer these questions, list two attributes for each question but do not modify the dataset at this stage. Of the attributes you listed, which ones could you safely remove? Explain in 4-5 sentences. *Hint: you might find seaborn's [`pairplot`](https://seaborn.github.io/generated/seaborn.pairplot.html?highlight=pairplot#seaborn.pairplot) function useful for this question.*"
   ]
  },
  {
   "cell_type": "markdown",
   "metadata": {},
   "source": [
    "<font color='red'>TASK MARK: 7</font>\n",
    "<br>\n",
    "<font color='green'>COMMENT:  You need to mention a correlated pair, and observe that one of this pair can also safely be removed. </font>"
   ]
  },
  {
   "cell_type": "code",
   "execution_count": 21,
   "metadata": {},
   "outputs": [
    {
     "data": {
      "image/png": "[encoded data removed]",
      "text/plain": [
       "<matplotlib.figure.Figure at 0x7faa6a550fd0>"
      ]
     },
     "metadata": {},
     "output_type": "display_data"
    },
    {
     "data": {
      "image/png": "[encoded data removed]",
      "text/plain": [
       "<matplotlib.figure.Figure at 0x7faa69a8f490>"
      ]
     },
     "metadata": {},
     "output_type": "display_data"
    }
   ],
   "source": [
    "g = sns.pairplot(data=auto_numeric, x_vars = [\"normalized-losses\", \"wheel-base\", \"length\", \"width\", \"height\", \"engine-size\", \"bore\"], y_vars = [\"price\"], size = 3)\n",
    "g = sns.pairplot(data=auto_numeric, x_vars = [\"stroke\", \"compression-ratio\", \"peak-rpm\", \"city-mpg\", \"highway-mpg\", \"mean-effective-pressure\", \"torque\"], y_vars = [\"price\"], size = 3)"
   ]
  },
  {
   "cell_type": "code",
   "execution_count": 22,
   "metadata": {},
   "outputs": [
    {
     "name": "stdout",
     "output_type": "stream",
     "text": [
      "The correlation between normalized-losses and the price is 0.0153676474237\n",
      "The correlation between width and the price is 0.524325552127\n",
      "The correlation between engine-size and the price is 0.715124590191\n",
      "The correlation between peak-rpm and the price is -0.0993452910632\n"
     ]
    }
   ],
   "source": [
    "from sklearn.metrics import accuracy_score\n",
    "\n",
    "colms = [\"normalized-losses\", \"width\", \"engine-size\", \"peak-rpm\"]\n",
    "for i in colms:\n",
    "    print (\"The correlation between {} and the price is {}\".format(i, np.corrcoef(auto_numeric[i], auto_numeric[\"price\"])[0][1])) "
   ]
  },
  {
   "cell_type": "markdown",
   "metadata": {},
   "source": [
    "The length, width, wheel base and engine size and  seem to have some sort of linear relation with the price. The normalised-issues and peak-rpm appear to have no correlation with the price at all and hence appear useless at predicting the price. The width and engine-size seem to exhibit a strong posititve linear correlation with the price. We could safely remove normalised-issues and peak-rpm as they seem to have none or very less correlation with the price and hence will not affect the predicted values of the price in the regression model. \n",
    "\n",
    "The for loop above proves the correlations that we have estimated from the graph."
   ]
  },
  {
   "cell_type": "markdown",
   "metadata": {},
   "source": [
    "### ========== Question 2.2 --- [3 marks] ==========\n",
    "We will now make a first attempt at building a Multivariate Linear Regression model using all numeric attributes. Initialise a `LinearRegression` model and predict the output by using 5-fold cross-validation and the `cross_val_predict` function."
   ]
  },
  {
   "cell_type": "markdown",
   "metadata": {},
   "source": [
    "<font color='red'>TASK MARK: 3</font>\n",
    "<br>\n",
    "<font color='green'>COMMENT:  - </font>"
   ]
  },
  {
   "cell_type": "code",
   "execution_count": 23,
   "metadata": {},
   "outputs": [
    {
     "name": "stdout",
     "output_type": "stream",
     "text": [
      "(159,)\n",
      "(159,)\n"
     ]
    }
   ],
   "source": [
    "A = auto_numeric.as_matrix(columns = [\"normalized-losses\", \"wheel-base\", \"length\", \"width\", \"height\", \"engine-size\", \"bore\", \"stroke\", \"compression-ratio\", \"engine-power\", \"peak-rpm\", \"city-mpg\", \"highway-mpg\", \"mean-effective-pressure\", \"torque\"])\n",
    "b = auto_numeric[\"price\"]\n",
    "lmulti = LinearRegression(normalize=True)\n",
    "multib_pred = cross_val_predict(lmulti, A, b, cv = kf)\n",
    "print (multib_pred.shape)\n",
    "print (b.shape)"
   ]
  },
  {
   "cell_type": "markdown",
   "metadata": {},
   "source": [
    "### ========== Question 2.3 --- [2 marks] ==========\n",
    "Display the Root Mean Squared Error (RMSE), Mean Absolute Error (MAE) and Correlation Coefficient (CC)."
   ]
  },
  {
   "cell_type": "markdown",
   "metadata": {},
   "source": [
    "<font color='red'>TASK MARK: 2</font>\n",
    "<br>\n",
    "<font color='green'>COMMENT:  Avoid spurious precision. </font>"
   ]
  },
  {
   "cell_type": "code",
   "execution_count": 24,
   "metadata": {
    "scrolled": true
   },
   "outputs": [
    {
     "name": "stdout",
     "output_type": "stream",
     "text": [
      "The Root mean squared error is : 4819.80464283\n",
      "The Mean absolute error is : 3050.34459963\n",
      "The Correlation Coefficient is : 0.742560270537\n"
     ]
    }
   ],
   "source": [
    "rmse = np.sqrt(mean_squared_error(b, multib_pred))\n",
    "print (\"The Root mean squared error is : {}\" .format(rmse))\n",
    "print (\"The Mean absolute error is : {}\" .format(mean_absolute_error(b, multib_pred)))\n",
    "print (\"The Correlation Coefficient is : {}\" .format((np.corrcoef(b, multib_pred))[0][1]))"
   ]
  },
  {
   "cell_type": "markdown",
   "metadata": {},
   "source": [
    "### ========== Question 2.4 --- [2 marks] ==========\n",
    " Comment on each metric display above in comparison to what you have obtained for the Simple Linear Regression model in Question 1.19."
   ]
  },
  {
   "cell_type": "markdown",
   "metadata": {},
   "source": [
    "<font color='red'>TASK MARK: 2</font>\n",
    "<br>\n",
    "<font color='green'>COMMENT:  - </font>"
   ]
  },
  {
   "cell_type": "markdown",
   "metadata": {},
   "source": [
    "The correlation coefficient we get here is quite high, showing that there is a strong positive correlation between the independent attributes and the price attribute we need to predict. The linear function of all the attributes can predict the price better than just the linear function of the engine power.  The root mean squared error and mean asbolute error have decreased significantly indicating a lesser difference in predicted and actual values due to an improved model.  "
   ]
  },
  {
   "cell_type": "markdown",
   "metadata": {},
   "source": [
    "### ========== Question 2.5 --- [2 marks] ==========\n",
    "Examine the histogram for the `engine-size` attribute. Choose a sensible value for the number of bins in the histogram. Label axes appropriately and include a title in your plot."
   ]
  },
  {
   "cell_type": "markdown",
   "metadata": {},
   "source": [
    "<font color='red'>TASK MARK: 2</font>\n",
    "<br>\n",
    "<font color='green'>COMMENT:  - </font>"
   ]
  },
  {
   "cell_type": "code",
   "execution_count": 25,
   "metadata": {},
   "outputs": [
    {
     "data": {
      "image/png": "[encoded data removed]",
      "text/plain": [
       "<matplotlib.figure.Figure at 0x7faa6ae806d0>"
      ]
     },
     "metadata": {},
     "output_type": "display_data"
    }
   ],
   "source": [
    "plt.hist(auto_numeric[\"engine-size\"], 40)\n",
    "plt.xlabel(\"engine size\")\n",
    "plt.ylabel(\"count\")\n",
    "plt.title(\"Frequency distribution of engine sizes\")\n",
    "plt.show()"
   ]
  },
  {
   "cell_type": "markdown",
   "metadata": {},
   "source": [
    "### ========== Question 2.6 --- [2 marks] ==========\n",
    "Is the distribution expected to cause a problem for regression? Explain your answer in 2-3 sentences."
   ]
  },
  {
   "cell_type": "markdown",
   "metadata": {},
   "source": [
    "<font color='red'>TASK MARK: 1</font>\n",
    "<br>\n",
    "<font color='green'>COMMENT:   In other words, skewness. But how do we fix it?</font>"
   ]
  },
  {
   "cell_type": "markdown",
   "metadata": {},
   "source": [
    "Most of the values for engine size are concentrated between 0 and 25 so the larger values of the engine size and the outliers might shift the linear regression line. "
   ]
  },
  {
   "cell_type": "markdown",
   "metadata": {},
   "source": [
    "### ========== Question 2.7 --- [3 marks] ==========\n",
    "Transform this attribute using an appropriate simple technique from the lectures. Plot the histogram of the transformed attribute."
   ]
  },
  {
   "cell_type": "markdown",
   "metadata": {},
   "source": [
    "<font color='red'>TASK MARK: 3</font>\n",
    "<br>\n",
    "<font color='green'>COMMENT:  Good. </font>"
   ]
  },
  {
   "cell_type": "code",
   "execution_count": 26,
   "metadata": {},
   "outputs": [
    {
     "data": {
      "image/png": "[encoded data removed]",
      "text/plain": [
       "<matplotlib.figure.Figure at 0x7faa696f5150>"
      ]
     },
     "metadata": {},
     "output_type": "display_data"
    }
   ],
   "source": [
    "for i in range (auto_numeric[\"engine-size\"].shape[0]):\n",
    "    auto_numeric[\"engine-size\"][i] = np.log(auto_numeric[\"engine-size\"][i])\n",
    "plt.hist(auto_numeric[\"engine-size\"], 15)\n",
    "plt.xlabel(\"engine size\")\n",
    "plt.ylabel(\"count\")\n",
    "plt.title(\"Frequency distribution of engine sizes\")\n",
    "plt.show()"
   ]
  },
  {
   "cell_type": "markdown",
   "metadata": {},
   "source": [
    "### ========== Question 2.8 --- [3 marks] ==========\n",
    "Now re-build a Linear Regression model on the transformed dataset and report the R^2, RMSE, MAE and CC metrics."
   ]
  },
  {
   "cell_type": "markdown",
   "metadata": {},
   "source": [
    "<font color='red'>TASK MARK: 3</font>\n",
    "<br>\n",
    "<font color='green'>COMMENT:  - </font>"
   ]
  },
  {
   "cell_type": "code",
   "execution_count": 27,
   "metadata": {},
   "outputs": [
    {
     "name": "stdout",
     "output_type": "stream",
     "text": [
      "(159,)\n",
      "(159,)\n",
      "The Coefficient of Determination is : 0.689612268029\n",
      "The Root mean squared error is : 3745.91959756\n",
      "The Mean absolute error is : 2668.36429567\n",
      "The Correlation Coefficient is : 0.831675321658\n"
     ]
    }
   ],
   "source": [
    "mulA = auto_numeric.as_matrix(columns = [\"normalized-losses\", \"wheel-base\", \"length\", \"width\", \"height\", \"engine-size\", \"bore\", \"stroke\", \"compression-ratio\", \"engine-power\", \"peak-rpm\", \"city-mpg\", \"highway-mpg\", \"mean-effective-pressure\", \"torque\"])\n",
    "mulb = auto_numeric[\"price\"]\n",
    "lmu = LinearRegression(normalize=True)\n",
    "mulb_pred = cross_val_predict(lmu, mulA, mulb, cv = kf)\n",
    "print (mulb_pred.shape)\n",
    "print (mulb.shape)\n",
    "print (\"The Coefficient of Determination is : {}\" .format(r2_score(mulb, mulb_pred)))\n",
    "rmse = np.sqrt(mean_squared_error(mulb, mulb_pred))\n",
    "print (\"The Root mean squared error is : {}\" .format(rmse))\n",
    "print (\"The Mean absolute error is : {}\" .format(mean_absolute_error(mulb, mulb_pred)))\n",
    "print (\"The Correlation Coefficient is : {}\" .format((np.corrcoef(mulb, mulb_pred))[0][1]))"
   ]
  },
  {
   "cell_type": "markdown",
   "metadata": {},
   "source": [
    "### ========== Question 2.9 --- [3 marks] ==========\n",
    "How has the performance of your model changed? Explain your answer in 1-2 sentences."
   ]
  },
  {
   "cell_type": "markdown",
   "metadata": {},
   "source": [
    "<font color='red'>TASK MARK: 2</font>\n",
    "<br>\n",
    "<font color='green'>COMMENT:   I would have liked to have seen a bit more analysis here. *How* did it help?</font>"
   ]
  },
  {
   "cell_type": "markdown",
   "metadata": {},
   "source": [
    "The root mean squared errors and mean absolute errors have decreased further, and the Coefficient of Determination and Correlation Coefficient have increased further as compared to 2.3. \n",
    "\n",
    "This shows that preprocessing the engine size to deal with large valued datapoints and outliers improves the models prediction accuracy significantly and proves that engine size has a strong positive correlation with the price and is a good attribute for predicting the price."
   ]
  },
  {
   "cell_type": "markdown",
   "metadata": {},
   "source": [
    "### ========== Question 2.10 --- [2 marks] ==========\n",
    "So far we have performed regression with numeric attributes. We will now attempt to integrate nominal (categorical) attributes into our regression model. \n",
    "Load the dataset `train_auto_full.csv` into a pandas DataFrame called `auto_full`. Display the number of samples and attributes in the dataset. Also, display the first 20 instances of the dataset. *Hint: Execute the cell below to change the default for `max_columns` display option in pandas.*"
   ]
  },
  {
   "cell_type": "markdown",
   "metadata": {},
   "source": [
    "<font color='red'>TASK MARK: 2</font>\n",
    "<br>\n",
    "<font color='green'>COMMENT:  - </font>"
   ]
  },
  {
   "cell_type": "code",
   "execution_count": 28,
   "metadata": {
    "collapsed": true
   },
   "outputs": [],
   "source": [
    "pd.set_option('max_columns', 30)"
   ]
  },
  {
   "cell_type": "code",
   "execution_count": 29,
   "metadata": {
    "scrolled": true
   },
   "outputs": [
    {
     "name": "stdout",
     "output_type": "stream",
     "text": [
      "The number of samples are : 159\n",
      "The number of attributes are : 27\n"
     ]
    },
    {
     "data": {
      "text/html": [
       "<div>\n",
       "<style>\n",
       "    .dataframe thead tr:only-child th {\n",
       "        text-align: right;\n",
       "    }\n",
       "\n",
       "    .dataframe thead th {\n",
       "        text-align: left;\n",
       "    }\n",
       "\n",
       "    .dataframe tbody tr th {\n",
       "        vertical-align: top;\n",
       "    }\n",
       "</style>\n",
       "<table border=\"1\" class=\"dataframe\">\n",
       "  <thead>\n",
       "    <tr style=\"text-align: right;\">\n",
       "      <th></th>\n",
       "      <th>normalized-losses</th>\n",
       "      <th>make</th>\n",
       "      <th>fuel-type</th>\n",
       "      <th>aspiration</th>\n",
       "      <th>num-of-doors</th>\n",
       "      <th>body-style</th>\n",
       "      <th>drive-wheels</th>\n",
       "      <th>engine-location</th>\n",
       "      <th>wheel-base</th>\n",
       "      <th>length</th>\n",
       "      <th>width</th>\n",
       "      <th>height</th>\n",
       "      <th>engine-type</th>\n",
       "      <th>num-of-cylinders</th>\n",
       "      <th>engine-size</th>\n",
       "      <th>fuel-system</th>\n",
       "      <th>bore</th>\n",
       "      <th>stroke</th>\n",
       "      <th>compression-ratio</th>\n",
       "      <th>engine-power</th>\n",
       "      <th>peak-rpm</th>\n",
       "      <th>city-mpg</th>\n",
       "      <th>highway-mpg</th>\n",
       "      <th>symboling</th>\n",
       "      <th>mean-effective-pressure</th>\n",
       "      <th>torque</th>\n",
       "      <th>price</th>\n",
       "    </tr>\n",
       "  </thead>\n",
       "  <tbody>\n",
       "    <tr>\n",
       "      <th>0</th>\n",
       "      <td>164.0</td>\n",
       "      <td>audi</td>\n",
       "      <td>gas</td>\n",
       "      <td>std</td>\n",
       "      <td>4</td>\n",
       "      <td>sedan</td>\n",
       "      <td>fwd</td>\n",
       "      <td>front</td>\n",
       "      <td>99.8</td>\n",
       "      <td>176.6</td>\n",
       "      <td>66.2</td>\n",
       "      <td>54.3</td>\n",
       "      <td>ohc</td>\n",
       "      <td>4</td>\n",
       "      <td>8.85</td>\n",
       "      <td>mpfi</td>\n",
       "      <td>3.19</td>\n",
       "      <td>3.40</td>\n",
       "      <td>10.00</td>\n",
       "      <td>102000.0</td>\n",
       "      <td>5500.0</td>\n",
       "      <td>24.0</td>\n",
       "      <td>30.0</td>\n",
       "      <td>2</td>\n",
       "      <td>40.52</td>\n",
       "      <td>57.68</td>\n",
       "      <td>13950.0</td>\n",
       "    </tr>\n",
       "    <tr>\n",
       "      <th>1</th>\n",
       "      <td>110.0</td>\n",
       "      <td>audi</td>\n",
       "      <td>gas</td>\n",
       "      <td>std</td>\n",
       "      <td>4</td>\n",
       "      <td>sedan</td>\n",
       "      <td>4wd</td>\n",
       "      <td>front</td>\n",
       "      <td>99.4</td>\n",
       "      <td>162.4</td>\n",
       "      <td>66.4</td>\n",
       "      <td>54.3</td>\n",
       "      <td>ohc</td>\n",
       "      <td>5</td>\n",
       "      <td>15.18</td>\n",
       "      <td>mpfi</td>\n",
       "      <td>3.19</td>\n",
       "      <td>3.40</td>\n",
       "      <td>8.00</td>\n",
       "      <td>115000.0</td>\n",
       "      <td>5500.0</td>\n",
       "      <td>18.0</td>\n",
       "      <td>22.0</td>\n",
       "      <td>2</td>\n",
       "      <td>47.39</td>\n",
       "      <td>59.59</td>\n",
       "      <td>17450.0</td>\n",
       "    </tr>\n",
       "    <tr>\n",
       "      <th>2</th>\n",
       "      <td>158.0</td>\n",
       "      <td>audi</td>\n",
       "      <td>gas</td>\n",
       "      <td>std</td>\n",
       "      <td>4</td>\n",
       "      <td>sedan</td>\n",
       "      <td>fwd</td>\n",
       "      <td>front</td>\n",
       "      <td>105.8</td>\n",
       "      <td>192.7</td>\n",
       "      <td>71.4</td>\n",
       "      <td>51.6</td>\n",
       "      <td>ohc</td>\n",
       "      <td>5</td>\n",
       "      <td>15.18</td>\n",
       "      <td>mpfi</td>\n",
       "      <td>3.94</td>\n",
       "      <td>2.80</td>\n",
       "      <td>8.50</td>\n",
       "      <td>70000.0</td>\n",
       "      <td>4400.0</td>\n",
       "      <td>28.0</td>\n",
       "      <td>30.0</td>\n",
       "      <td>1</td>\n",
       "      <td>0.85</td>\n",
       "      <td>3344.79</td>\n",
       "      <td>17710.0</td>\n",
       "    </tr>\n",
       "    <tr>\n",
       "      <th>3</th>\n",
       "      <td>106.0</td>\n",
       "      <td>audi</td>\n",
       "      <td>gas</td>\n",
       "      <td>turbo</td>\n",
       "      <td>4</td>\n",
       "      <td>sedan</td>\n",
       "      <td>fwd</td>\n",
       "      <td>front</td>\n",
       "      <td>86.6</td>\n",
       "      <td>158.7</td>\n",
       "      <td>67.7</td>\n",
       "      <td>55.9</td>\n",
       "      <td>ohc</td>\n",
       "      <td>5</td>\n",
       "      <td>13.74</td>\n",
       "      <td>mpfi</td>\n",
       "      <td>3.13</td>\n",
       "      <td>3.50</td>\n",
       "      <td>7.80</td>\n",
       "      <td>140000.0</td>\n",
       "      <td>5600.0</td>\n",
       "      <td>32.0</td>\n",
       "      <td>20.0</td>\n",
       "      <td>1</td>\n",
       "      <td>44.74</td>\n",
       "      <td>68.97</td>\n",
       "      <td>23875.0</td>\n",
       "    </tr>\n",
       "    <tr>\n",
       "      <th>4</th>\n",
       "      <td>192.0</td>\n",
       "      <td>bmw</td>\n",
       "      <td>gas</td>\n",
       "      <td>std</td>\n",
       "      <td>2</td>\n",
       "      <td>sedan</td>\n",
       "      <td>rwd</td>\n",
       "      <td>front</td>\n",
       "      <td>101.2</td>\n",
       "      <td>176.8</td>\n",
       "      <td>64.8</td>\n",
       "      <td>54.3</td>\n",
       "      <td>ohc</td>\n",
       "      <td>4</td>\n",
       "      <td>8.67</td>\n",
       "      <td>mpfi</td>\n",
       "      <td>3.50</td>\n",
       "      <td>2.80</td>\n",
       "      <td>8.80</td>\n",
       "      <td>101000.0</td>\n",
       "      <td>5800.0</td>\n",
       "      <td>23.0</td>\n",
       "      <td>29.0</td>\n",
       "      <td>2</td>\n",
       "      <td>44.78</td>\n",
       "      <td>53.48</td>\n",
       "      <td>16430.0</td>\n",
       "    </tr>\n",
       "    <tr>\n",
       "      <th>5</th>\n",
       "      <td>194.0</td>\n",
       "      <td>bmw</td>\n",
       "      <td>gas</td>\n",
       "      <td>std</td>\n",
       "      <td>4</td>\n",
       "      <td>sedan</td>\n",
       "      <td>rwd</td>\n",
       "      <td>front</td>\n",
       "      <td>110.0</td>\n",
       "      <td>190.9</td>\n",
       "      <td>71.4</td>\n",
       "      <td>58.7</td>\n",
       "      <td>ohc</td>\n",
       "      <td>4</td>\n",
       "      <td>8.67</td>\n",
       "      <td>mpfi</td>\n",
       "      <td>3.78</td>\n",
       "      <td>3.90</td>\n",
       "      <td>22.50</td>\n",
       "      <td>101000.0</td>\n",
       "      <td>6000.0</td>\n",
       "      <td>47.0</td>\n",
       "      <td>53.0</td>\n",
       "      <td>0</td>\n",
       "      <td>1.80</td>\n",
       "      <td>1330.28</td>\n",
       "      <td>16925.0</td>\n",
       "    </tr>\n",
       "    <tr>\n",
       "      <th>6</th>\n",
       "      <td>188.0</td>\n",
       "      <td>bmw</td>\n",
       "      <td>gas</td>\n",
       "      <td>std</td>\n",
       "      <td>2</td>\n",
       "      <td>sedan</td>\n",
       "      <td>rwd</td>\n",
       "      <td>front</td>\n",
       "      <td>101.2</td>\n",
       "      <td>176.8</td>\n",
       "      <td>64.8</td>\n",
       "      <td>54.3</td>\n",
       "      <td>ohc</td>\n",
       "      <td>6</td>\n",
       "      <td>26.58</td>\n",
       "      <td>mpfi</td>\n",
       "      <td>3.31</td>\n",
       "      <td>3.19</td>\n",
       "      <td>9.00</td>\n",
       "      <td>121000.0</td>\n",
       "      <td>4250.0</td>\n",
       "      <td>21.0</td>\n",
       "      <td>28.0</td>\n",
       "      <td>0</td>\n",
       "      <td>7.19</td>\n",
       "      <td>377.06</td>\n",
       "      <td>20970.0</td>\n",
       "    </tr>\n",
       "    <tr>\n",
       "      <th>7</th>\n",
       "      <td>150.0</td>\n",
       "      <td>bmw</td>\n",
       "      <td>gas</td>\n",
       "      <td>std</td>\n",
       "      <td>4</td>\n",
       "      <td>sedan</td>\n",
       "      <td>rwd</td>\n",
       "      <td>front</td>\n",
       "      <td>101.2</td>\n",
       "      <td>176.8</td>\n",
       "      <td>64.8</td>\n",
       "      <td>56.1</td>\n",
       "      <td>ohc</td>\n",
       "      <td>6</td>\n",
       "      <td>26.58</td>\n",
       "      <td>mpfi</td>\n",
       "      <td>3.03</td>\n",
       "      <td>3.19</td>\n",
       "      <td>8.00</td>\n",
       "      <td>134000.0</td>\n",
       "      <td>4400.0</td>\n",
       "      <td>28.0</td>\n",
       "      <td>37.0</td>\n",
       "      <td>0</td>\n",
       "      <td>57.37</td>\n",
       "      <td>48.20</td>\n",
       "      <td>21105.0</td>\n",
       "    </tr>\n",
       "    <tr>\n",
       "      <th>8</th>\n",
       "      <td>121.0</td>\n",
       "      <td>chevrolet</td>\n",
       "      <td>gas</td>\n",
       "      <td>std</td>\n",
       "      <td>2</td>\n",
       "      <td>hatchback</td>\n",
       "      <td>fwd</td>\n",
       "      <td>front</td>\n",
       "      <td>88.4</td>\n",
       "      <td>141.1</td>\n",
       "      <td>60.3</td>\n",
       "      <td>53.2</td>\n",
       "      <td>l</td>\n",
       "      <td>3</td>\n",
       "      <td>3.39</td>\n",
       "      <td>2bbl</td>\n",
       "      <td>3.03</td>\n",
       "      <td>3.03</td>\n",
       "      <td>9.50</td>\n",
       "      <td>48000.0</td>\n",
       "      <td>5300.0</td>\n",
       "      <td>47.0</td>\n",
       "      <td>53.0</td>\n",
       "      <td>2</td>\n",
       "      <td>59.33</td>\n",
       "      <td>25.08</td>\n",
       "      <td>5151.0</td>\n",
       "    </tr>\n",
       "    <tr>\n",
       "      <th>9</th>\n",
       "      <td>98.0</td>\n",
       "      <td>chevrolet</td>\n",
       "      <td>gas</td>\n",
       "      <td>std</td>\n",
       "      <td>2</td>\n",
       "      <td>hatchback</td>\n",
       "      <td>fwd</td>\n",
       "      <td>front</td>\n",
       "      <td>104.3</td>\n",
       "      <td>155.9</td>\n",
       "      <td>68.3</td>\n",
       "      <td>52.0</td>\n",
       "      <td>ohc</td>\n",
       "      <td>4</td>\n",
       "      <td>6.05</td>\n",
       "      <td>2bbl</td>\n",
       "      <td>3.31</td>\n",
       "      <td>3.47</td>\n",
       "      <td>7.80</td>\n",
       "      <td>70000.0</td>\n",
       "      <td>5000.0</td>\n",
       "      <td>34.0</td>\n",
       "      <td>34.0</td>\n",
       "      <td>1</td>\n",
       "      <td>51.55</td>\n",
       "      <td>36.35</td>\n",
       "      <td>6295.0</td>\n",
       "    </tr>\n",
       "    <tr>\n",
       "      <th>10</th>\n",
       "      <td>93.0</td>\n",
       "      <td>chevrolet</td>\n",
       "      <td>gas</td>\n",
       "      <td>std</td>\n",
       "      <td>4</td>\n",
       "      <td>sedan</td>\n",
       "      <td>fwd</td>\n",
       "      <td>front</td>\n",
       "      <td>94.5</td>\n",
       "      <td>158.8</td>\n",
       "      <td>63.6</td>\n",
       "      <td>52.0</td>\n",
       "      <td>ohc</td>\n",
       "      <td>4</td>\n",
       "      <td>6.05</td>\n",
       "      <td>2bbl</td>\n",
       "      <td>3.03</td>\n",
       "      <td>3.11</td>\n",
       "      <td>9.60</td>\n",
       "      <td>70000.0</td>\n",
       "      <td>5400.0</td>\n",
       "      <td>38.0</td>\n",
       "      <td>43.0</td>\n",
       "      <td>0</td>\n",
       "      <td>65.57</td>\n",
       "      <td>29.11</td>\n",
       "      <td>6575.0</td>\n",
       "    </tr>\n",
       "    <tr>\n",
       "      <th>11</th>\n",
       "      <td>231.0</td>\n",
       "      <td>dodge</td>\n",
       "      <td>gas</td>\n",
       "      <td>std</td>\n",
       "      <td>2</td>\n",
       "      <td>hatchback</td>\n",
       "      <td>fwd</td>\n",
       "      <td>front</td>\n",
       "      <td>113.0</td>\n",
       "      <td>199.6</td>\n",
       "      <td>71.4</td>\n",
       "      <td>59.1</td>\n",
       "      <td>ohc</td>\n",
       "      <td>4</td>\n",
       "      <td>6.05</td>\n",
       "      <td>2bbl</td>\n",
       "      <td>3.78</td>\n",
       "      <td>4.17</td>\n",
       "      <td>9.41</td>\n",
       "      <td>176000.0</td>\n",
       "      <td>6600.0</td>\n",
       "      <td>49.0</td>\n",
       "      <td>54.0</td>\n",
       "      <td>1</td>\n",
       "      <td>93.12</td>\n",
       "      <td>20.15</td>\n",
       "      <td>5572.0</td>\n",
       "    </tr>\n",
       "    <tr>\n",
       "      <th>12</th>\n",
       "      <td>118.0</td>\n",
       "      <td>dodge</td>\n",
       "      <td>gas</td>\n",
       "      <td>std</td>\n",
       "      <td>2</td>\n",
       "      <td>hatchback</td>\n",
       "      <td>fwd</td>\n",
       "      <td>front</td>\n",
       "      <td>93.7</td>\n",
       "      <td>174.6</td>\n",
       "      <td>63.8</td>\n",
       "      <td>49.4</td>\n",
       "      <td>ohc</td>\n",
       "      <td>4</td>\n",
       "      <td>6.05</td>\n",
       "      <td>2bbl</td>\n",
       "      <td>2.97</td>\n",
       "      <td>3.23</td>\n",
       "      <td>21.50</td>\n",
       "      <td>68000.0</td>\n",
       "      <td>5500.0</td>\n",
       "      <td>31.0</td>\n",
       "      <td>38.0</td>\n",
       "      <td>1</td>\n",
       "      <td>12.28</td>\n",
       "      <td>152.80</td>\n",
       "      <td>6377.0</td>\n",
       "    </tr>\n",
       "    <tr>\n",
       "      <th>13</th>\n",
       "      <td>118.0</td>\n",
       "      <td>dodge</td>\n",
       "      <td>gas</td>\n",
       "      <td>turbo</td>\n",
       "      <td>2</td>\n",
       "      <td>hatchback</td>\n",
       "      <td>fwd</td>\n",
       "      <td>front</td>\n",
       "      <td>93.7</td>\n",
       "      <td>157.3</td>\n",
       "      <td>63.8</td>\n",
       "      <td>50.8</td>\n",
       "      <td>ohc</td>\n",
       "      <td>4</td>\n",
       "      <td>7.10</td>\n",
       "      <td>mpfi</td>\n",
       "      <td>3.03</td>\n",
       "      <td>3.39</td>\n",
       "      <td>7.60</td>\n",
       "      <td>102000.0</td>\n",
       "      <td>5500.0</td>\n",
       "      <td>24.0</td>\n",
       "      <td>30.0</td>\n",
       "      <td>1</td>\n",
       "      <td>28.80</td>\n",
       "      <td>73.88</td>\n",
       "      <td>7957.0</td>\n",
       "    </tr>\n",
       "    <tr>\n",
       "      <th>14</th>\n",
       "      <td>197.0</td>\n",
       "      <td>dodge</td>\n",
       "      <td>gas</td>\n",
       "      <td>std</td>\n",
       "      <td>4</td>\n",
       "      <td>hatchback</td>\n",
       "      <td>fwd</td>\n",
       "      <td>front</td>\n",
       "      <td>110.0</td>\n",
       "      <td>192.7</td>\n",
       "      <td>71.4</td>\n",
       "      <td>58.7</td>\n",
       "      <td>ohc</td>\n",
       "      <td>4</td>\n",
       "      <td>6.05</td>\n",
       "      <td>2bbl</td>\n",
       "      <td>3.78</td>\n",
       "      <td>3.90</td>\n",
       "      <td>22.50</td>\n",
       "      <td>162000.0</td>\n",
       "      <td>6000.0</td>\n",
       "      <td>47.0</td>\n",
       "      <td>53.0</td>\n",
       "      <td>1</td>\n",
       "      <td>47.53</td>\n",
       "      <td>41.38</td>\n",
       "      <td>6229.0</td>\n",
       "    </tr>\n",
       "    <tr>\n",
       "      <th>15</th>\n",
       "      <td>148.0</td>\n",
       "      <td>dodge</td>\n",
       "      <td>gas</td>\n",
       "      <td>std</td>\n",
       "      <td>4</td>\n",
       "      <td>sedan</td>\n",
       "      <td>fwd</td>\n",
       "      <td>front</td>\n",
       "      <td>93.7</td>\n",
       "      <td>157.3</td>\n",
       "      <td>63.8</td>\n",
       "      <td>50.6</td>\n",
       "      <td>ohc</td>\n",
       "      <td>4</td>\n",
       "      <td>6.05</td>\n",
       "      <td>2bbl</td>\n",
       "      <td>2.97</td>\n",
       "      <td>3.23</td>\n",
       "      <td>9.40</td>\n",
       "      <td>68000.0</td>\n",
       "      <td>5500.0</td>\n",
       "      <td>31.0</td>\n",
       "      <td>38.0</td>\n",
       "      <td>1</td>\n",
       "      <td>14.59</td>\n",
       "      <td>136.33</td>\n",
       "      <td>6692.0</td>\n",
       "    </tr>\n",
       "    <tr>\n",
       "      <th>16</th>\n",
       "      <td>148.0</td>\n",
       "      <td>dodge</td>\n",
       "      <td>gas</td>\n",
       "      <td>std</td>\n",
       "      <td>4</td>\n",
       "      <td>sedan</td>\n",
       "      <td>fwd</td>\n",
       "      <td>front</td>\n",
       "      <td>93.7</td>\n",
       "      <td>157.3</td>\n",
       "      <td>63.8</td>\n",
       "      <td>50.6</td>\n",
       "      <td>ohc</td>\n",
       "      <td>4</td>\n",
       "      <td>6.05</td>\n",
       "      <td>2bbl</td>\n",
       "      <td>2.97</td>\n",
       "      <td>3.23</td>\n",
       "      <td>9.40</td>\n",
       "      <td>68000.0</td>\n",
       "      <td>5500.0</td>\n",
       "      <td>31.0</td>\n",
       "      <td>38.0</td>\n",
       "      <td>1</td>\n",
       "      <td>4.07</td>\n",
       "      <td>488.77</td>\n",
       "      <td>7609.0</td>\n",
       "    </tr>\n",
       "    <tr>\n",
       "      <th>17</th>\n",
       "      <td>110.0</td>\n",
       "      <td>dodge</td>\n",
       "      <td>gas</td>\n",
       "      <td>std</td>\n",
       "      <td>4</td>\n",
       "      <td>wagon</td>\n",
       "      <td>fwd</td>\n",
       "      <td>front</td>\n",
       "      <td>103.3</td>\n",
       "      <td>174.6</td>\n",
       "      <td>64.6</td>\n",
       "      <td>59.8</td>\n",
       "      <td>ohc</td>\n",
       "      <td>4</td>\n",
       "      <td>11.47</td>\n",
       "      <td>2bbl</td>\n",
       "      <td>3.34</td>\n",
       "      <td>3.46</td>\n",
       "      <td>8.50</td>\n",
       "      <td>88000.0</td>\n",
       "      <td>5000.0</td>\n",
       "      <td>24.0</td>\n",
       "      <td>30.0</td>\n",
       "      <td>-1</td>\n",
       "      <td>76.69</td>\n",
       "      <td>33.05</td>\n",
       "      <td>8921.0</td>\n",
       "    </tr>\n",
       "    <tr>\n",
       "      <th>18</th>\n",
       "      <td>118.0</td>\n",
       "      <td>dodge</td>\n",
       "      <td>gas</td>\n",
       "      <td>turbo</td>\n",
       "      <td>2</td>\n",
       "      <td>hatchback</td>\n",
       "      <td>fwd</td>\n",
       "      <td>front</td>\n",
       "      <td>95.9</td>\n",
       "      <td>173.2</td>\n",
       "      <td>66.3</td>\n",
       "      <td>50.2</td>\n",
       "      <td>ohc</td>\n",
       "      <td>4</td>\n",
       "      <td>22.65</td>\n",
       "      <td>mfi</td>\n",
       "      <td>3.60</td>\n",
       "      <td>3.90</td>\n",
       "      <td>7.00</td>\n",
       "      <td>145000.0</td>\n",
       "      <td>5000.0</td>\n",
       "      <td>19.0</td>\n",
       "      <td>24.0</td>\n",
       "      <td>3</td>\n",
       "      <td>24.17</td>\n",
       "      <td>116.32</td>\n",
       "      <td>12964.0</td>\n",
       "    </tr>\n",
       "    <tr>\n",
       "      <th>19</th>\n",
       "      <td>137.0</td>\n",
       "      <td>honda</td>\n",
       "      <td>gas</td>\n",
       "      <td>std</td>\n",
       "      <td>2</td>\n",
       "      <td>hatchback</td>\n",
       "      <td>fwd</td>\n",
       "      <td>front</td>\n",
       "      <td>86.6</td>\n",
       "      <td>144.6</td>\n",
       "      <td>63.9</td>\n",
       "      <td>50.8</td>\n",
       "      <td>ohc</td>\n",
       "      <td>4</td>\n",
       "      <td>6.30</td>\n",
       "      <td>1bbl</td>\n",
       "      <td>2.91</td>\n",
       "      <td>3.41</td>\n",
       "      <td>9.60</td>\n",
       "      <td>58000.0</td>\n",
       "      <td>4800.0</td>\n",
       "      <td>49.0</td>\n",
       "      <td>54.0</td>\n",
       "      <td>2</td>\n",
       "      <td>51.27</td>\n",
       "      <td>33.41</td>\n",
       "      <td>6479.0</td>\n",
       "    </tr>\n",
       "  </tbody>\n",
       "</table>\n",
       "</div>"
      ],
      "text/plain": [
       "    normalized-losses       make fuel-type aspiration  num-of-doors  \\\n",
       "0               164.0       audi       gas        std             4   \n",
       "1               110.0       audi       gas        std             4   \n",
       "2               158.0       audi       gas        std             4   \n",
       "3               106.0       audi       gas      turbo             4   \n",
       "4               192.0        bmw       gas        std             2   \n",
       "5               194.0        bmw       gas        std             4   \n",
       "6               188.0        bmw       gas        std             2   \n",
       "7               150.0        bmw       gas        std             4   \n",
       "8               121.0  chevrolet       gas        std             2   \n",
       "9                98.0  chevrolet       gas        std             2   \n",
       "10               93.0  chevrolet       gas        std             4   \n",
       "11              231.0      dodge       gas        std             2   \n",
       "12              118.0      dodge       gas        std             2   \n",
       "13              118.0      dodge       gas      turbo             2   \n",
       "14              197.0      dodge       gas        std             4   \n",
       "15              148.0      dodge       gas        std             4   \n",
       "16              148.0      dodge       gas        std             4   \n",
       "17              110.0      dodge       gas        std             4   \n",
       "18              118.0      dodge       gas      turbo             2   \n",
       "19              137.0      honda       gas        std             2   \n",
       "\n",
       "   body-style drive-wheels engine-location  wheel-base  length  width  height  \\\n",
       "0       sedan          fwd           front        99.8   176.6   66.2    54.3   \n",
       "1       sedan          4wd           front        99.4   162.4   66.4    54.3   \n",
       "2       sedan          fwd           front       105.8   192.7   71.4    51.6   \n",
       "3       sedan          fwd           front        86.6   158.7   67.7    55.9   \n",
       "4       sedan          rwd           front       101.2   176.8   64.8    54.3   \n",
       "5       sedan          rwd           front       110.0   190.9   71.4    58.7   \n",
       "6       sedan          rwd           front       101.2   176.8   64.8    54.3   \n",
       "7       sedan          rwd           front       101.2   176.8   64.8    56.1   \n",
       "8   hatchback          fwd           front        88.4   141.1   60.3    53.2   \n",
       "9   hatchback          fwd           front       104.3   155.9   68.3    52.0   \n",
       "10      sedan          fwd           front        94.5   158.8   63.6    52.0   \n",
       "11  hatchback          fwd           front       113.0   199.6   71.4    59.1   \n",
       "12  hatchback          fwd           front        93.7   174.6   63.8    49.4   \n",
       "13  hatchback          fwd           front        93.7   157.3   63.8    50.8   \n",
       "14  hatchback          fwd           front       110.0   192.7   71.4    58.7   \n",
       "15      sedan          fwd           front        93.7   157.3   63.8    50.6   \n",
       "16      sedan          fwd           front        93.7   157.3   63.8    50.6   \n",
       "17      wagon          fwd           front       103.3   174.6   64.6    59.8   \n",
       "18  hatchback          fwd           front        95.9   173.2   66.3    50.2   \n",
       "19  hatchback          fwd           front        86.6   144.6   63.9    50.8   \n",
       "\n",
       "   engine-type  num-of-cylinders  engine-size fuel-system  bore  stroke  \\\n",
       "0          ohc                 4         8.85        mpfi  3.19    3.40   \n",
       "1          ohc                 5        15.18        mpfi  3.19    3.40   \n",
       "2          ohc                 5        15.18        mpfi  3.94    2.80   \n",
       "3          ohc                 5        13.74        mpfi  3.13    3.50   \n",
       "4          ohc                 4         8.67        mpfi  3.50    2.80   \n",
       "5          ohc                 4         8.67        mpfi  3.78    3.90   \n",
       "6          ohc                 6        26.58        mpfi  3.31    3.19   \n",
       "7          ohc                 6        26.58        mpfi  3.03    3.19   \n",
       "8            l                 3         3.39        2bbl  3.03    3.03   \n",
       "9          ohc                 4         6.05        2bbl  3.31    3.47   \n",
       "10         ohc                 4         6.05        2bbl  3.03    3.11   \n",
       "11         ohc                 4         6.05        2bbl  3.78    4.17   \n",
       "12         ohc                 4         6.05        2bbl  2.97    3.23   \n",
       "13         ohc                 4         7.10        mpfi  3.03    3.39   \n",
       "14         ohc                 4         6.05        2bbl  3.78    3.90   \n",
       "15         ohc                 4         6.05        2bbl  2.97    3.23   \n",
       "16         ohc                 4         6.05        2bbl  2.97    3.23   \n",
       "17         ohc                 4        11.47        2bbl  3.34    3.46   \n",
       "18         ohc                 4        22.65         mfi  3.60    3.90   \n",
       "19         ohc                 4         6.30        1bbl  2.91    3.41   \n",
       "\n",
       "    compression-ratio  engine-power  peak-rpm  city-mpg  highway-mpg  \\\n",
       "0               10.00      102000.0    5500.0      24.0         30.0   \n",
       "1                8.00      115000.0    5500.0      18.0         22.0   \n",
       "2                8.50       70000.0    4400.0      28.0         30.0   \n",
       "3                7.80      140000.0    5600.0      32.0         20.0   \n",
       "4                8.80      101000.0    5800.0      23.0         29.0   \n",
       "5               22.50      101000.0    6000.0      47.0         53.0   \n",
       "6                9.00      121000.0    4250.0      21.0         28.0   \n",
       "7                8.00      134000.0    4400.0      28.0         37.0   \n",
       "8                9.50       48000.0    5300.0      47.0         53.0   \n",
       "9                7.80       70000.0    5000.0      34.0         34.0   \n",
       "10               9.60       70000.0    5400.0      38.0         43.0   \n",
       "11               9.41      176000.0    6600.0      49.0         54.0   \n",
       "12              21.50       68000.0    5500.0      31.0         38.0   \n",
       "13               7.60      102000.0    5500.0      24.0         30.0   \n",
       "14              22.50      162000.0    6000.0      47.0         53.0   \n",
       "15               9.40       68000.0    5500.0      31.0         38.0   \n",
       "16               9.40       68000.0    5500.0      31.0         38.0   \n",
       "17               8.50       88000.0    5000.0      24.0         30.0   \n",
       "18               7.00      145000.0    5000.0      19.0         24.0   \n",
       "19               9.60       58000.0    4800.0      49.0         54.0   \n",
       "\n",
       "    symboling  mean-effective-pressure   torque    price  \n",
       "0           2                    40.52    57.68  13950.0  \n",
       "1           2                    47.39    59.59  17450.0  \n",
       "2           1                     0.85  3344.79  17710.0  \n",
       "3           1                    44.74    68.97  23875.0  \n",
       "4           2                    44.78    53.48  16430.0  \n",
       "5           0                     1.80  1330.28  16925.0  \n",
       "6           0                     7.19   377.06  20970.0  \n",
       "7           0                    57.37    48.20  21105.0  \n",
       "8           2                    59.33    25.08   5151.0  \n",
       "9           1                    51.55    36.35   6295.0  \n",
       "10          0                    65.57    29.11   6575.0  \n",
       "11          1                    93.12    20.15   5572.0  \n",
       "12          1                    12.28   152.80   6377.0  \n",
       "13          1                    28.80    73.88   7957.0  \n",
       "14          1                    47.53    41.38   6229.0  \n",
       "15          1                    14.59   136.33   6692.0  \n",
       "16          1                     4.07   488.77   7609.0  \n",
       "17         -1                    76.69    33.05   8921.0  \n",
       "18          3                    24.17   116.32  12964.0  \n",
       "19          2                    51.27    33.41   6479.0  "
      ]
     },
     "execution_count": 29,
     "metadata": {},
     "output_type": "execute_result"
    }
   ],
   "source": [
    "data_path_2 = os.path.join(os.getcwd(), 'datasets', 'train_auto_full.csv')\n",
    "auto_full = pd.read_csv(data_path_2, delimiter = ',')\n",
    "print (\"The number of samples are : {}\" .format(auto_full.shape[0]))\n",
    "print (\"The number of attributes are : {}\".format(auto_full.shape[1]))\n",
    "auto_full.head(20)"
   ]
  },
  {
   "cell_type": "markdown",
   "metadata": {},
   "source": [
    "### ========== Question 2.11 --- [3 marks] ==========\n",
    "This dataset contains a mixture of numeric and nominal attributes. Name the variables that you think are categorical. Why can we not use the nominal attributes in their current form for the purposes of regression? "
   ]
  },
  {
   "cell_type": "markdown",
   "metadata": {},
   "source": [
    "<font color='red'>TASK MARK: 2</font>\n",
    "<br>\n",
    "<font color='green'>COMMENT:  Also; number_of_cylinders, number_of_doors, and symboling; these may be expressed with numbers, but they are to be understood as categories; it should not be assumed that x.5 more cylinders should mean a x.5 greater weighting on the 'cylinders' variable. </font>"
   ]
  },
  {
   "cell_type": "markdown",
   "metadata": {},
   "source": [
    "The 8 categorical attributes here are make, fuel-type, aspiration, body-style, drive-wheels, engine-location, engine-type and fuel-system. \n",
    "\n",
    "We can't use the nominal attributes in their cuurent form for regression because linear regression only works with numerical attributes. The categorical attributes we have do not have any sort of numeric value associated with them currently and hence they can't be used for regression before we convert them. "
   ]
  },
  {
   "cell_type": "markdown",
   "metadata": {},
   "source": [
    "### ========== Question 2.12 --- [5 marks] ==========\n",
    "Now we want to convert the categorical variables by using [One-Hot-Encoding](http://scikit-learn.org/stable/modules/generated/sklearn.preprocessing.OneHotEncoder.html#sklearn.preprocessing.OneHotEncoder). Familiarise yourself with the class. One limitation with this module is that it can deal only with categorical attributes in integer format (remember that in our example we have attributes in string format). \n",
    "\n",
    "Copy the `auto_full` dataframe into a new dataframe `auto_full_edit` and transform the categorical variables by using [Label Encoding](http://scikit-learn.org/stable/modules/generated/sklearn.preprocessing.LabelEncoder.html). Then transform again the categorical variables by using One-Hot-Encoding. Make sure you don't transform the continuous variables. *Hint: make appropriate use of the `categorical_features` parameter in [`OneHotEncoder`](http://scikit-learn.org/stable/modules/generated/sklearn.preprocessing.OneHotEncoder.html#sklearn.preprocessing.OneHotEncoder).*\n",
    "\n",
    "Store the transformed attributes into a numpy array `X_enc` and display its dimensionality.  \n"
   ]
  },
  {
   "cell_type": "markdown",
   "metadata": {},
   "source": [
    "<font color='red'>TASK MARK: 5</font>\n",
    "<br>\n",
    "<font color='green'>COMMENT:   Interestingly, you do one-hot-encode *all* the categories.</font>"
   ]
  },
  {
   "cell_type": "code",
   "execution_count": 30,
   "metadata": {},
   "outputs": [
    {
     "data": {
      "text/plain": [
       "(159, 70)"
      ]
     },
     "execution_count": 30,
     "metadata": {},
     "output_type": "execute_result"
    }
   ],
   "source": [
    "auto_full_edit = auto_full.copy(deep = True)\n",
    "cols = [\"make\", \"fuel-type\", \"aspiration\" , \"num-of-doors\", \"body-style\" , \"drive-wheels\" , \"engine-location\" , \"engine-type\" , \"num-of-cylinders\", \"fuel-system\", \"symboling\"]\n",
    "for i in cols:\n",
    "    le = LabelEncoder()\n",
    "    auto_full_edit[i] = le.fit_transform(auto_full_edit[i]) #Transforms each column\n",
    "\n",
    "enc = OneHotEncoder(categorical_features = [1,2,3,4,5,6,7,12,13,15,23]) #indices for the categorical data\n",
    "X_enc = enc.fit_transform(auto_full_edit.drop('price',axis=1))\n",
    "X_enc.shape"
   ]
  },
  {
   "cell_type": "markdown",
   "metadata": {},
   "source": [
    "### ========== Question 2.13 --- [2 marks] ==========\n",
    "By using the transformed data train a multivariate linear regression model and by using 5-fold cross-validation report the R^2, RMSE, MAE and CC metrics."
   ]
  },
  {
   "cell_type": "markdown",
   "metadata": {},
   "source": [
    "<font color='red'>TASK MARK: 2</font>\n",
    "<br>\n",
    "<font color='green'>COMMENT:  - </font>"
   ]
  },
  {
   "cell_type": "code",
   "execution_count": 31,
   "metadata": {},
   "outputs": [
    {
     "name": "stdout",
     "output_type": "stream",
     "text": [
      "(159,)\n",
      "(159,)\n",
      "The Coefficient of Determination is : 0.86383451765\n",
      "The Root mean squared error is : 2481.07385412\n",
      "The Mean absolute error is : 1706.44341397\n",
      "The Correlation Coefficient is : 0.931517349598\n"
     ]
    }
   ],
   "source": [
    "lin_r = LinearRegression(normalize=True)\n",
    "mb = auto_numeric[\"price\"]\n",
    "mb_pred = cross_val_predict(lin_r, X_enc, mb, cv = kf)\n",
    "print (mb_pred.shape)\n",
    "print (mb.shape)\n",
    "print (\"The Coefficient of Determination is : {}\" .format(r2_score(mb, mb_pred)))\n",
    "rmse = np.sqrt(mean_squared_error(mb, mb_pred))\n",
    "print (\"The Root mean squared error is : {}\" .format(rmse))\n",
    "print (\"The Mean absolute error is : {}\" .format(mean_absolute_error(mb, mb_pred)))\n",
    "print (\"The Correlation Coefficient is : {}\" .format((np.corrcoef(mb, mb_pred))[0][1]))"
   ]
  },
  {
   "cell_type": "markdown",
   "metadata": {},
   "source": [
    "### ========== Question 2.14 --- [4 marks] ==========\n",
    "How does this more complex model perform with respect to your best performing model from either question 2.3 or 2.8? List one advantage and one disadvantage of using the more complex model."
   ]
  },
  {
   "cell_type": "markdown",
   "metadata": {},
   "source": [
    "<font color='red'>TASK MARK: 4</font>\n",
    "<br>\n",
    "<font color='green'>COMMENT:  Very good. </font>"
   ]
  },
  {
   "cell_type": "markdown",
   "metadata": {},
   "source": [
    "This more complex model does much much better as compared to the scaled dataset that only took numeric values into consideration. Both the coefficients are high indicating the extremely high predicition accuracy of the model after it has taken into consideration all the attributes and how they affect the final predicted value. Both the errors have come down as well indicating  smaller residual values. \n",
    "\n",
    "One advantage of using this complex model is obviously that we can easily identify outliers in the dataset and get a high classification accuracy. One disadvantage of this model is that it might overfit to the data provided here and do very poorly when tested with a new/random set of datapoints (even though cross validation does help reduce the over fitting, we could decrease the variance further by using a higher fold cross validation, but not too high as this may lead to a more severe imbalance of classes in the training and testing sets). "
   ]
  },
  {
   "cell_type": "markdown",
   "metadata": {},
   "source": [
    "### ========== Question 2.15 --- [4 marks] ==========\n",
    "Finally, experiment with tree-based regressors (e.g. [`DecisionTreeRegressor`](http://scikit-learn.org/stable/modules/generated/sklearn.tree.DecisionTreeRegressor.html), [`RandomForestRegressor`](http://scikit-learn.org/stable/modules/generated/sklearn.ensemble.RandomForestRegressor.html)) and report 5-fold cross-validation scores for R^2, RMSE, MAE and CC. Has your performance improved? Explain your answer in 1-2 sentences."
   ]
  },
  {
   "cell_type": "markdown",
   "metadata": {},
   "source": [
    "<font color='red'>TASK MARK: 2</font>\n",
    "<br>\n",
    "<font color='green'>COMMENT:  Rather brief, lacking in analysis. </font>"
   ]
  },
  {
   "cell_type": "code",
   "execution_count": 32,
   "metadata": {},
   "outputs": [
    {
     "name": "stdout",
     "output_type": "stream",
     "text": [
      "For the random forest regressor\n",
      "The Coefficient of Determination is : 0.841226308253\n",
      "The Root mean squared error for : 2679.14025082\n",
      "The Mean absolute error is : 1782.04955975\n",
      "The Correlation Coefficient is : 0.918473230892\n",
      "\n",
      "\n",
      "For the decision tree regressor\n",
      "The Coefficient of Determination is : 0.669283616279\n",
      "The Root mean squared error for : 3866.64261351\n",
      "The Mean absolute error is : 2388.76100629\n",
      "The Correlation Coefficient is : 0.833490056431\n"
     ]
    }
   ],
   "source": [
    "from sklearn.ensemble import RandomForestRegressor\n",
    "rf = RandomForestRegressor(n_estimators = 50, random_state = 0)\n",
    "rf_pred = cross_val_predict(rf, X_enc, mb, cv = kf)\n",
    "\n",
    "print (\"For the random forest regressor\")\n",
    "print (\"The Coefficient of Determination is : {}\" .format(r2_score(mb, rf_pred)))\n",
    "rmse = np.sqrt(mean_squared_error(mb, rf_pred))\n",
    "print (\"The Root mean squared error for : {}\" .format(rmse))\n",
    "print (\"The Mean absolute error is : {}\" .format(mean_absolute_error(mb, rf_pred)))\n",
    "print (\"The Correlation Coefficient is : {}\" .format((np.corrcoef(mb, rf_pred))[0][1]))\n",
    "print (\"\\n\")\n",
    "\n",
    "from sklearn.tree import DecisionTreeRegressor\n",
    "dt = DecisionTreeRegressor(random_state = 0)\n",
    "dt_pred = cross_val_predict(dt, X_enc, mb, cv = kf)\n",
    "\n",
    "print( \"For the decision tree regressor\")\n",
    "print (\"The Coefficient of Determination is : {}\" .format(r2_score(mb, dt_pred)))\n",
    "rmse = np.sqrt(mean_squared_error(mb, dt_pred))\n",
    "print (\"The Root mean squared error for : {}\" .format(rmse))\n",
    "print (\"The Mean absolute error is : {}\" .format(mean_absolute_error(mb, dt_pred)))\n",
    "print (\"The Correlation Coefficient is : {}\" .format((np.corrcoef(mb, dt_pred))[0][1]))\n"
   ]
  },
  {
   "cell_type": "markdown",
   "metadata": {},
   "source": [
    "The performance hasn't improved and the complex linear regressor is doing very slightly better than the decision trees and random forest regressor. All of these models are prone to overfitting on the processed training data. "
   ]
  }
 ],
 "metadata": {
  "anaconda-cloud": {},
  "kernelspec": {
   "display_name": "Python 2",
   "language": "python",
   "name": "python2"
  },
  "language_info": {
   "codemirror_mode": {
    "name": "ipython",
    "version": 2
   },
   "file_extension": ".py",
   "mimetype": "text/x-python",
   "name": "python",
   "nbconvert_exporter": "python",
   "pygments_lexer": "ipython2",
   "version": "2.7.13"
  }
 },
 "nbformat": 4,
 "nbformat_minor": 1
}
